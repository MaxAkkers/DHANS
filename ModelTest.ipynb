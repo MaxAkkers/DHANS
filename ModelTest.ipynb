{
  "nbformat": 4,
  "nbformat_minor": 0,
  "metadata": {
    "colab": {
      "name": "ModelTest",
      "provenance": [],
      "collapsed_sections": [],
      "include_colab_link": true
    },
    "kernelspec": {
      "display_name": "Python 3",
      "name": "python3"
    },
    "accelerator": "GPU"
  },
  "cells": [
    {
      "cell_type": "markdown",
      "metadata": {
        "id": "view-in-github",
        "colab_type": "text"
      },
      "source": [
        "<a href=\"https://colab.research.google.com/github/MaxAkkers/DHANS/blob/main/ModelTest.ipynb\" target=\"_parent\"><img src=\"https://colab.research.google.com/assets/colab-badge.svg\" alt=\"Open In Colab\"/></a>"
      ]
    },
    {
      "cell_type": "code",
      "metadata": {
        "id": "hrsYCkpkrah_",
        "colab": {
          "base_uri": "https://localhost:8080/"
        },
        "outputId": "89d86353-44d9-4b41-9b45-65074c7c65c3"
      },
      "source": [
        "!pip install transformers"
      ],
      "execution_count": 1,
      "outputs": [
        {
          "output_type": "stream",
          "text": [
            "Collecting transformers\n",
            "\u001b[?25l  Downloading https://files.pythonhosted.org/packages/b5/d5/c6c23ad75491467a9a84e526ef2364e523d45e2b0fae28a7cbe8689e7e84/transformers-4.8.1-py3-none-any.whl (2.5MB)\n",
            "\u001b[K     |████████████████████████████████| 2.5MB 6.7MB/s \n",
            "\u001b[?25hRequirement already satisfied: regex!=2019.12.17 in /usr/local/lib/python3.7/dist-packages (from transformers) (2019.12.20)\n",
            "Collecting huggingface-hub==0.0.12\n",
            "  Downloading https://files.pythonhosted.org/packages/2f/ee/97e253668fda9b17e968b3f97b2f8e53aa0127e8807d24a547687423fe0b/huggingface_hub-0.0.12-py3-none-any.whl\n",
            "Requirement already satisfied: numpy>=1.17 in /usr/local/lib/python3.7/dist-packages (from transformers) (1.19.5)\n",
            "Requirement already satisfied: pyyaml in /usr/local/lib/python3.7/dist-packages (from transformers) (3.13)\n",
            "Collecting sacremoses\n",
            "\u001b[?25l  Downloading https://files.pythonhosted.org/packages/75/ee/67241dc87f266093c533a2d4d3d69438e57d7a90abb216fa076e7d475d4a/sacremoses-0.0.45-py3-none-any.whl (895kB)\n",
            "\u001b[K     |████████████████████████████████| 901kB 49.3MB/s \n",
            "\u001b[?25hRequirement already satisfied: tqdm>=4.27 in /usr/local/lib/python3.7/dist-packages (from transformers) (4.41.1)\n",
            "Requirement already satisfied: filelock in /usr/local/lib/python3.7/dist-packages (from transformers) (3.0.12)\n",
            "Requirement already satisfied: packaging in /usr/local/lib/python3.7/dist-packages (from transformers) (20.9)\n",
            "Requirement already satisfied: importlib-metadata; python_version < \"3.8\" in /usr/local/lib/python3.7/dist-packages (from transformers) (4.5.0)\n",
            "Collecting tokenizers<0.11,>=0.10.1\n",
            "\u001b[?25l  Downloading https://files.pythonhosted.org/packages/d4/e2/df3543e8ffdab68f5acc73f613de9c2b155ac47f162e725dcac87c521c11/tokenizers-0.10.3-cp37-cp37m-manylinux_2_5_x86_64.manylinux1_x86_64.manylinux_2_12_x86_64.manylinux2010_x86_64.whl (3.3MB)\n",
            "\u001b[K     |████████████████████████████████| 3.3MB 49.0MB/s \n",
            "\u001b[?25hRequirement already satisfied: requests in /usr/local/lib/python3.7/dist-packages (from transformers) (2.23.0)\n",
            "Requirement already satisfied: typing-extensions in /usr/local/lib/python3.7/dist-packages (from huggingface-hub==0.0.12->transformers) (3.7.4.3)\n",
            "Requirement already satisfied: six in /usr/local/lib/python3.7/dist-packages (from sacremoses->transformers) (1.15.0)\n",
            "Requirement already satisfied: joblib in /usr/local/lib/python3.7/dist-packages (from sacremoses->transformers) (1.0.1)\n",
            "Requirement already satisfied: click in /usr/local/lib/python3.7/dist-packages (from sacremoses->transformers) (7.1.2)\n",
            "Requirement already satisfied: pyparsing>=2.0.2 in /usr/local/lib/python3.7/dist-packages (from packaging->transformers) (2.4.7)\n",
            "Requirement already satisfied: zipp>=0.5 in /usr/local/lib/python3.7/dist-packages (from importlib-metadata; python_version < \"3.8\"->transformers) (3.4.1)\n",
            "Requirement already satisfied: urllib3!=1.25.0,!=1.25.1,<1.26,>=1.21.1 in /usr/local/lib/python3.7/dist-packages (from requests->transformers) (1.24.3)\n",
            "Requirement already satisfied: certifi>=2017.4.17 in /usr/local/lib/python3.7/dist-packages (from requests->transformers) (2021.5.30)\n",
            "Requirement already satisfied: chardet<4,>=3.0.2 in /usr/local/lib/python3.7/dist-packages (from requests->transformers) (3.0.4)\n",
            "Requirement already satisfied: idna<3,>=2.5 in /usr/local/lib/python3.7/dist-packages (from requests->transformers) (2.10)\n",
            "Installing collected packages: huggingface-hub, sacremoses, tokenizers, transformers\n",
            "Successfully installed huggingface-hub-0.0.12 sacremoses-0.0.45 tokenizers-0.10.3 transformers-4.8.1\n"
          ],
          "name": "stdout"
        }
      ]
    },
    {
      "cell_type": "code",
      "metadata": {
        "colab": {
          "base_uri": "https://localhost:8080/"
        },
        "id": "vZf33ouoNmAV",
        "outputId": "a57980f5-a79f-45a2-b388-7b728e5b20b4"
      },
      "source": [
        "! git clone https://github.com/gijswijnholds/sick_nl.git"
      ],
      "execution_count": 1,
      "outputs": [
        {
          "output_type": "stream",
          "text": [
            "Cloning into 'sick_nl'...\n",
            "remote: Enumerating objects: 318, done.\u001b[K\n",
            "remote: Counting objects: 100% (318/318), done.\u001b[K\n",
            "remote: Compressing objects: 100% (236/236), done.\u001b[K\n",
            "remote: Total 318 (delta 166), reused 177 (delta 71), pack-reused 0\u001b[K\n",
            "Receiving objects: 100% (318/318), 697.77 KiB | 4.71 MiB/s, done.\n",
            "Resolving deltas: 100% (166/166), done.\n"
          ],
          "name": "stdout"
        }
      ]
    },
    {
      "cell_type": "code",
      "metadata": {
        "colab": {
          "base_uri": "https://localhost:8080/"
        },
        "id": "KojYZNZANmC1",
        "outputId": "1b4711f2-f06b-438b-8596-78a8da40737b"
      },
      "source": [
        "!pip install -r sick_nl/requirements.txt"
      ],
      "execution_count": 7,
      "outputs": [
        {
          "output_type": "stream",
          "text": [
            "Requirement already satisfied: transformers in /usr/local/lib/python3.7/dist-packages (from -r /content/gdrive/MyDrive/sick_nl_working/sick_nl/requirements.txt (line 1)) (4.8.1)\n",
            "Requirement already satisfied: torch in /usr/local/lib/python3.7/dist-packages (from -r /content/gdrive/MyDrive/sick_nl_working/sick_nl/requirements.txt (line 2)) (1.9.0+cu102)\n",
            "Requirement already satisfied: sklearn in /usr/local/lib/python3.7/dist-packages (from -r /content/gdrive/MyDrive/sick_nl_working/sick_nl/requirements.txt (line 3)) (0.0)\n",
            "Requirement already satisfied: numpy in /usr/local/lib/python3.7/dist-packages (from -r /content/gdrive/MyDrive/sick_nl_working/sick_nl/requirements.txt (line 4)) (1.19.5)\n",
            "Requirement already satisfied: scipy in /usr/local/lib/python3.7/dist-packages (from -r /content/gdrive/MyDrive/sick_nl_working/sick_nl/requirements.txt (line 5)) (1.4.1)\n",
            "Requirement already satisfied: tqdm in /usr/local/lib/python3.7/dist-packages (from -r /content/gdrive/MyDrive/sick_nl_working/sick_nl/requirements.txt (line 6)) (4.41.1)\n",
            "Requirement already satisfied: huggingface-hub==0.0.12 in /usr/local/lib/python3.7/dist-packages (from transformers->-r /content/gdrive/MyDrive/sick_nl_working/sick_nl/requirements.txt (line 1)) (0.0.12)\n",
            "Requirement already satisfied: pyyaml in /usr/local/lib/python3.7/dist-packages (from transformers->-r /content/gdrive/MyDrive/sick_nl_working/sick_nl/requirements.txt (line 1)) (3.13)\n",
            "Requirement already satisfied: filelock in /usr/local/lib/python3.7/dist-packages (from transformers->-r /content/gdrive/MyDrive/sick_nl_working/sick_nl/requirements.txt (line 1)) (3.0.12)\n",
            "Requirement already satisfied: tokenizers<0.11,>=0.10.1 in /usr/local/lib/python3.7/dist-packages (from transformers->-r /content/gdrive/MyDrive/sick_nl_working/sick_nl/requirements.txt (line 1)) (0.10.3)\n",
            "Requirement already satisfied: regex!=2019.12.17 in /usr/local/lib/python3.7/dist-packages (from transformers->-r /content/gdrive/MyDrive/sick_nl_working/sick_nl/requirements.txt (line 1)) (2019.12.20)\n",
            "Requirement already satisfied: requests in /usr/local/lib/python3.7/dist-packages (from transformers->-r /content/gdrive/MyDrive/sick_nl_working/sick_nl/requirements.txt (line 1)) (2.23.0)\n",
            "Requirement already satisfied: sacremoses in /usr/local/lib/python3.7/dist-packages (from transformers->-r /content/gdrive/MyDrive/sick_nl_working/sick_nl/requirements.txt (line 1)) (0.0.45)\n",
            "Requirement already satisfied: importlib-metadata; python_version < \"3.8\" in /usr/local/lib/python3.7/dist-packages (from transformers->-r /content/gdrive/MyDrive/sick_nl_working/sick_nl/requirements.txt (line 1)) (4.5.0)\n",
            "Requirement already satisfied: packaging in /usr/local/lib/python3.7/dist-packages (from transformers->-r /content/gdrive/MyDrive/sick_nl_working/sick_nl/requirements.txt (line 1)) (20.9)\n",
            "Requirement already satisfied: typing-extensions in /usr/local/lib/python3.7/dist-packages (from torch->-r /content/gdrive/MyDrive/sick_nl_working/sick_nl/requirements.txt (line 2)) (3.7.4.3)\n",
            "Requirement already satisfied: scikit-learn in /usr/local/lib/python3.7/dist-packages (from sklearn->-r /content/gdrive/MyDrive/sick_nl_working/sick_nl/requirements.txt (line 3)) (0.22.2.post1)\n",
            "Requirement already satisfied: urllib3!=1.25.0,!=1.25.1,<1.26,>=1.21.1 in /usr/local/lib/python3.7/dist-packages (from requests->transformers->-r /content/gdrive/MyDrive/sick_nl_working/sick_nl/requirements.txt (line 1)) (1.24.3)\n",
            "Requirement already satisfied: chardet<4,>=3.0.2 in /usr/local/lib/python3.7/dist-packages (from requests->transformers->-r /content/gdrive/MyDrive/sick_nl_working/sick_nl/requirements.txt (line 1)) (3.0.4)\n",
            "Requirement already satisfied: idna<3,>=2.5 in /usr/local/lib/python3.7/dist-packages (from requests->transformers->-r /content/gdrive/MyDrive/sick_nl_working/sick_nl/requirements.txt (line 1)) (2.10)\n",
            "Requirement already satisfied: certifi>=2017.4.17 in /usr/local/lib/python3.7/dist-packages (from requests->transformers->-r /content/gdrive/MyDrive/sick_nl_working/sick_nl/requirements.txt (line 1)) (2021.5.30)\n",
            "Requirement already satisfied: click in /usr/local/lib/python3.7/dist-packages (from sacremoses->transformers->-r /content/gdrive/MyDrive/sick_nl_working/sick_nl/requirements.txt (line 1)) (7.1.2)\n",
            "Requirement already satisfied: six in /usr/local/lib/python3.7/dist-packages (from sacremoses->transformers->-r /content/gdrive/MyDrive/sick_nl_working/sick_nl/requirements.txt (line 1)) (1.15.0)\n",
            "Requirement already satisfied: joblib in /usr/local/lib/python3.7/dist-packages (from sacremoses->transformers->-r /content/gdrive/MyDrive/sick_nl_working/sick_nl/requirements.txt (line 1)) (1.0.1)\n",
            "Requirement already satisfied: zipp>=0.5 in /usr/local/lib/python3.7/dist-packages (from importlib-metadata; python_version < \"3.8\"->transformers->-r /content/gdrive/MyDrive/sick_nl_working/sick_nl/requirements.txt (line 1)) (3.4.1)\n",
            "Requirement already satisfied: pyparsing>=2.0.2 in /usr/local/lib/python3.7/dist-packages (from packaging->transformers->-r /content/gdrive/MyDrive/sick_nl_working/sick_nl/requirements.txt (line 1)) (2.4.7)\n"
          ],
          "name": "stdout"
        }
      ]
    },
    {
      "cell_type": "code",
      "metadata": {
        "id": "tiHNN_QYNmLU"
      },
      "source": [
        "import os"
      ],
      "execution_count": 12,
      "outputs": []
    },
    {
      "cell_type": "code",
      "metadata": {
        "colab": {
          "base_uri": "https://localhost:8080/",
          "height": 35
        },
        "id": "A8PzvAqiNmNY",
        "outputId": "9de1d4bd-f22d-4be2-c7d4-88a61a1a52d4"
      },
      "source": [
        "os.getcwd()"
      ],
      "execution_count": 13,
      "outputs": [
        {
          "output_type": "execute_result",
          "data": {
            "application/vnd.google.colaboratory.intrinsic+json": {
              "type": "string"
            },
            "text/plain": [
              "'/content/gdrive/MyDrive/sick_nl_working'"
            ]
          },
          "metadata": {
            "tags": []
          },
          "execution_count": 13
        }
      ]
    },
    {
      "cell_type": "code",
      "metadata": {
        "id": "cubBIsO6fn4s"
      },
      "source": [
        "from sick_nl.code.evaluation.eval_nli import evaluate_en_nli_models, evaluate_nl_nli_models, run_finetuner\n",
        "from sick_nl.code.loaders.sick import load_sick_nl\n",
        "from sick_nl.code.config import models_folder, results_folder, bert, bert_nl, roberta, roberta_nl, mbert"
      ],
      "execution_count": 14,
      "outputs": []
    },
    {
      "cell_type": "code",
      "metadata": {
        "id": "87zEtxjKfDGF"
      },
      "source": [
        "\n",
        "bert = \"bert-base-cased\"\n",
        "bert_nl = \"wietsedv/bert-base-dutch-cased\"\n",
        "roberta = \"roberta-base\"\n",
        "roberta_nl = \"pdelobelle/robbert-v2-dutch-base\"\n",
        "mbert = \"bert-base-multilingual-cased\"\n",
        "\n",
        "data_folder = 'sick_nl/data'\n",
        "stress_test_folder = os.path.join(data_folder, 'tasks/stress_tests')\n",
        "sick_folder = os.path.join(data_folder, 'tasks/sick_nl')\n",
        "vectors_folder = os.path.join(data_folder, 'vectors')\n",
        "\n",
        "sick_fn_en = os.path.join(sick_folder, 'SICK.txt')\n",
        "sick_fn_nl = os.path.join(sick_folder, 'heuristics_set.txt')\n",
        "\n",
        "skipgram_fn = os.path.join(vectors_folder, 'GoogleNews-vectors-negative300_SICK.txt')\n",
        "skipgram_fn_nl = os.path.join(vectors_folder, '320/wikipedia-320.txt')\n",
        "\n",
        "model_data_folder = 'sick_nl/model_data'\n",
        "models_folder = os.path.join(model_data_folder, 'models')\n",
        "models_agg_folder = os.path.join(model_data_folder, 'models_agg')\n",
        "results_folder = os.path.join(model_data_folder, 'results')\n",
        "\n",
        "prep_order_fn = os.path.join(stress_test_folder, 'prep_phrase_order.txt')\n",
        "present_tense_fn = os.path.join(stress_test_folder, 'present_cont_present_simple.txt')\n",
        "\n",
        "best_bert_nl_model = os.path.join(models_agg_folder, 'model_SICK_NL_bert-base-dutch-cased_epoch16.pt')\n",
        "best_roberta_nl_model = os.path.join(models_agg_folder, 'model_SICK_NL_robbert-v2-dutch-base_epoch19.pt')\n",
        "best_mbert_nl_model = os.path.join(models_agg_folder, 'model_SICK_NL_bert-base-multilingual-cased_epoch16.pt')"
      ],
      "execution_count": 32,
      "outputs": []
    },
    {
      "cell_type": "code",
      "metadata": {
        "colab": {
          "base_uri": "https://localhost:8080/"
        },
        "id": "WGCfKwOrNmRp",
        "outputId": "55a8ee95-c1d6-4a34-9ccf-a57e47a3ad24"
      },
      "source": [
        "nl_sick = load_sick_nl()"
      ],
      "execution_count": 33,
      "outputs": [
        {
          "output_type": "stream",
          "text": [
            "[['Als de leerlingen leren , verlaten de jongens ', 'De leerlingen leren ', 'NEUTRAL', 'constituent', 'TEST'], ['Als de studenten ontwijken , studeren de vrouwen ', 'De studenten ontwijken ', 'NEUTRAL', 'constituent', 'TEST'], ['Als de klimmers knuffelen , redden de spelers ', 'De klimmers knuffelen ', 'NEUTRAL', 'constituent', 'TEST'], ['Als de leerlingen voeren , duelleren de dochters ', 'De leerlingen voeren ', 'NEUTRAL', 'constituent', 'TEST'], ['Als de jongens leren , duelleren de soldaten ', 'De jongens leren ', 'NEUTRAL', 'constituent', 'TEST'], ['Als de spelers redden , voeren de fotografen ', 'De spelers redden ', 'NEUTRAL', 'constituent', 'TEST'], ['Als de jongens trekken , telefoneren de klimmers ', 'De jongens trekken ', 'NEUTRAL', 'constituent', 'TEST'], ['Als de mimespelers worstelen , tekenen de fotografen ', 'De mimespelers worstelen ', 'NEUTRAL', 'constituent', 'TEST'], [\"Als de studenten gooien , worstelen de boa's \", 'De studenten gooien ', 'NEUTRAL', 'constituent', 'TEST'], ['Als de hardlopers gooien , redden de fietsers ', 'De hardlopers gooien ', 'NEUTRAL', 'constituent', 'TEST'], ['Als de mannen breken , ontwijken de studenten ', 'De mannen breken ', 'NEUTRAL', 'constituent', 'TEST'], ['Als de fietsers schoppen , dragen de mimespelers ', 'De fietsers schoppen ', 'NEUTRAL', 'constituent', 'TRAIN'], ['Als de jongvolwassenen verlaten , knuffelen de studenten ', 'De jongvolwassenen verlaten ', 'NEUTRAL', 'constituent', 'TEST'], ['Als de fietsers redden , voeren de spelers ', 'De fietsers redden ', 'NEUTRAL', 'constituent', 'TRAIN'], ['Als de klimmers vangen , tekenen de vrouwen ', 'De klimmers vangen ', 'NEUTRAL', 'constituent', 'TEST'], ['Als de fotografen tekenen , trouwen de vrouwen ', 'De fotografen tekenen ', 'NEUTRAL', 'constituent', 'TEST'], ['Als de hardlopers dragen , borstelen de studenten ', 'De hardlopers dragen ', 'NEUTRAL', 'constituent', 'TEST'], ['Als de studenten borstelen , breken de leerlingen ', 'De studenten borstelen ', 'NEUTRAL', 'constituent', 'TEST'], ['Als de vrouwen ontwijken , gooien de fotografen ', 'De vrouwen ontwijken ', 'NEUTRAL', 'constituent', 'TRAIL'], ['Als de hardlopers trouwen , borstelen de jongvolwassenen ', 'De hardlopers trouwen ', 'NEUTRAL', 'constituent', 'TEST'], [\"Als de mimespelers trouwen , dragen de boa's \", 'De mimespelers trouwen ', 'NEUTRAL', 'constituent', 'TEST'], ['Als de motorrijders redden , zagen de studenten ', 'De motorrijders redden ', 'NEUTRAL', 'constituent', 'TEST'], ['Als de vrouwen vangen , ontwijken de mannen ', 'De vrouwen vangen ', 'NEUTRAL', 'constituent', 'TRAIL'], ['Als de mimespelers leren , ontwijken de studenten ', 'De mimespelers leren ', 'NEUTRAL', 'constituent', 'TEST'], ['Als de fotografen worstelen , trekken de jongens ', 'De fotografen worstelen ', 'NEUTRAL', 'constituent', 'TEST'], ['Als de mimespelers ontwijken , schoppen de jongvolwassenen ', 'De mimespelers ontwijken ', 'NEUTRAL', 'constituent', 'TEST'], ['Als de motorrijders trouwen , schoppen de spelers ', 'De motorrijders trouwen ', 'NEUTRAL', 'constituent', 'TEST'], ['Als de vrouwen duelleren , zagen de jongvolwassenen ', 'De vrouwen duelleren ', 'NEUTRAL', 'constituent', 'TEST'], ['Als de jongens ontwijken , redden de mimespelers ', 'De jongens ontwijken ', 'NEUTRAL', 'constituent', 'TEST'], ['Als de dochters gooien , worstelen de studenten ', 'De dochters gooien ', 'NEUTRAL', 'constituent', 'TEST'], ['Als de mannen verlaten , worstelen de dochters ', 'De mannen verlaten ', 'NEUTRAL', 'constituent', 'TEST'], ['Als de fietsers trekken , snuffelen de jongvolwassenen ', 'De fietsers trekken ', 'NEUTRAL', 'constituent', 'TEST'], ['Als de fietsers verlaten , worstelen de vrouwen ', 'De fietsers verlaten ', 'NEUTRAL', 'constituent', 'TEST'], ['Als de jongens ontwijken , verpletteren de klimmers ', 'De jongens ontwijken ', 'NEUTRAL', 'constituent', 'TEST'], ['Als de hardlopers redden , duelleren de spelers ', 'De hardlopers redden ', 'NEUTRAL', 'constituent', 'TEST'], ['Als de soldaten schoppen , tekenen de dochters ', 'De soldaten schoppen ', 'NEUTRAL', 'constituent', 'TEST'], ['Als de mannen redden , knuffelen de klimmers ', 'De mannen redden ', 'NEUTRAL', 'constituent', 'TEST'], [\"Als de boa's dragen , ontwijken de mannen \", \"De boa's dragen \", 'NEUTRAL', 'constituent', 'TEST'], ['Als de jongvolwassenen trouwen , tekenen de leerlingen ', 'De jongvolwassenen trouwen ', 'NEUTRAL', 'constituent', 'TEST'], ['Als de fietsers zagen , vangen de mimespelers ', 'De fietsers zagen ', 'NEUTRAL', 'constituent', 'TRAIN'], ['Als de jongens snuffelen , worstelen de dochters ', 'De jongens snuffelen ', 'NEUTRAL', 'constituent', 'TEST'], ['Als de fietsers duelleren , vangen de studenten ', 'De fietsers duelleren ', 'NEUTRAL', 'constituent', 'TEST'], ['Als de mannen voeren , vangen de studenten ', 'De mannen voeren ', 'NEUTRAL', 'constituent', 'TEST'], ['Als de dochters schoppen , snuffelen de klimmers ', 'De dochters schoppen ', 'NEUTRAL', 'constituent', 'TEST'], ['Als de jongens studeren , trouwen de leerlingen ', 'De jongens studeren ', 'NEUTRAL', 'constituent', 'TEST'], ['Als de spelers verpletteren , trekken de dochters ', 'De spelers verpletteren ', 'NEUTRAL', 'constituent', 'TEST'], [\"Als de hardlopers zagen , studeren de boa's \", 'De hardlopers zagen ', 'NEUTRAL', 'constituent', 'TEST'], ['Als de fietsers tekenen , knuffelen de studenten ', 'De fietsers tekenen ', 'NEUTRAL', 'constituent', 'TRAIN'], ['Als de studenten duelleren , voeren de leerlingen ', 'De studenten duelleren ', 'NEUTRAL', 'constituent', 'TEST'], [\"Als de leerlingen zagen , breken de boa's \", 'De leerlingen zagen ', 'NEUTRAL', 'constituent', 'TEST'], ['Als de fietsers dragen , leren de studenten ', 'De fietsers dragen ', 'NEUTRAL', 'constituent', 'TRAIN'], ['Als de mimespelers trekken , trouwen de hardlopers ', 'De mimespelers trekken ', 'NEUTRAL', 'constituent', 'TEST'], ['Als de jongens worstelen , telefoneren de vrouwen ', 'De jongens worstelen ', 'NEUTRAL', 'constituent', 'TEST'], ['Als de mannen verpletteren , breken de jongens ', 'De mannen verpletteren ', 'NEUTRAL', 'constituent', 'TRAIN'], [\"Als de motorrijders voeren , dragen de boa's \", 'De motorrijders voeren ', 'NEUTRAL', 'constituent', 'TRAIN'], ['Als de mannen leren , redden de mimespelers ', 'De mannen leren ', 'NEUTRAL', 'constituent', 'TEST'], ['Als de jongvolwassenen gooien , voeren de studenten ', 'De jongvolwassenen gooien ', 'NEUTRAL', 'constituent', 'TEST'], [\"Als de boa's leren , telefoneren de jongvolwassenen \", \"De boa's leren \", 'NEUTRAL', 'constituent', 'TRAIN'], ['Als de dochters duelleren , tekenen de motorrijders ', 'De dochters duelleren ', 'NEUTRAL', 'constituent', 'TEST'], ['Als de mimespelers leren , verlaten de soldaten ', 'De mimespelers leren ', 'NEUTRAL', 'constituent', 'TEST'], ['Als de spelers trouwen , verlaten de mimespelers ', 'De spelers trouwen ', 'NEUTRAL', 'constituent', 'TEST'], [\"Als de klimmers tekenen , vangen de boa's \", 'De klimmers tekenen ', 'NEUTRAL', 'constituent', 'TEST'], ['Als de jongens tekenen , verlaten de leerlingen ', 'De jongens tekenen ', 'NEUTRAL', 'constituent', 'TEST'], ['Als de leerlingen dragen , voeren de mannen ', 'De leerlingen dragen ', 'NEUTRAL', 'constituent', 'TEST'], ['Als de vrouwen worstelen , snuffelen de leerlingen ', 'De vrouwen worstelen ', 'NEUTRAL', 'constituent', 'TEST'], ['Als de studenten breken , schoppen de mannen ', 'De studenten breken ', 'NEUTRAL', 'constituent', 'TEST'], ['Als de studenten knuffelen , voeren de spelers ', 'De studenten knuffelen ', 'NEUTRAL', 'constituent', 'TEST'], ['Als de studenten studeren , tekenen de klimmers ', 'De studenten studeren ', 'NEUTRAL', 'constituent', 'TEST'], [\"Als de boa's verlaten , vangen de spelers \", \"De boa's verlaten \", 'NEUTRAL', 'constituent', 'TEST'], ['Als de vrouwen voeren , zagen de leerlingen ', 'De vrouwen voeren ', 'NEUTRAL', 'constituent', 'TRAIN'], ['Als de jongens gooien , duelleren de motorrijders ', 'De jongens gooien ', 'NEUTRAL', 'constituent', 'TEST'], ['Als de vrouwen dragen , ontwijken de jongvolwassenen ', 'De vrouwen dragen ', 'NEUTRAL', 'constituent', 'TEST'], ['Als de hardlopers tekenen , worstelen de spelers ', 'De hardlopers tekenen ', 'NEUTRAL', 'constituent', 'TEST'], ['Als de jongvolwassenen borstelen , redden de hardlopers ', 'De jongvolwassenen borstelen ', 'NEUTRAL', 'constituent', 'TRAIL'], ['Als de jongvolwassenen schoppen , studeren de jongens ', 'De jongvolwassenen schoppen ', 'NEUTRAL', 'constituent', 'TEST'], ['Als de mannen knuffelen , verlaten de klimmers ', 'De mannen knuffelen ', 'NEUTRAL', 'constituent', 'TEST'], ['Als de studenten telefoneren , snuffelen de hardlopers ', 'De studenten telefoneren ', 'NEUTRAL', 'constituent', 'TEST'], ['Als de soldaten redden , breken de fotografen ', 'De soldaten redden ', 'NEUTRAL', 'constituent', 'TEST'], ['Als de leerlingen studeren , snuffelen de vrouwen ', 'De leerlingen studeren ', 'NEUTRAL', 'constituent', 'TEST'], ['Als de mannen schoppen , borstelen de hardlopers ', 'De mannen schoppen ', 'NEUTRAL', 'constituent', 'TEST'], ['Als de mimespelers breken , studeren de spelers ', 'De mimespelers breken ', 'NEUTRAL', 'constituent', 'TEST'], [\"Als de boa's vangen , zagen de mimespelers \", \"De boa's vangen \", 'NEUTRAL', 'constituent', 'TEST'], ['Als de fietsers zagen , redden de vrouwen ', 'De fietsers zagen ', 'NEUTRAL', 'constituent', 'TEST'], ['Als de leerlingen zagen , gooien de mannen ', 'De leerlingen zagen ', 'NEUTRAL', 'constituent', 'TEST'], ['Als de soldaten trouwen , duelleren de motorrijders ', 'De soldaten trouwen ', 'NEUTRAL', 'constituent', 'TEST'], ['Als de motorrijders redden , leren de leerlingen ', 'De motorrijders redden ', 'NEUTRAL', 'constituent', 'TRAIN'], ['Als de mannen zagen , verpletteren de spelers ', 'De mannen zagen ', 'NEUTRAL', 'constituent', 'TEST'], ['Als de jongens knuffelen , borstelen de leerlingen ', 'De jongens knuffelen ', 'NEUTRAL', 'constituent', 'TEST'], ['Als de leerlingen snuffelen , leren de hardlopers ', 'De leerlingen snuffelen ', 'NEUTRAL', 'constituent', 'TRAIN'], ['Als de klimmers verpletteren , leren de jongvolwassenen ', 'De klimmers verpletteren ', 'NEUTRAL', 'constituent', 'TRAIL'], ['Als de studenten worstelen , snuffelen de dochters ', 'De studenten worstelen ', 'NEUTRAL', 'constituent', 'TRAIN'], ['Als de motorrijders zagen , snuffelen de jongvolwassenen ', 'De motorrijders zagen ', 'NEUTRAL', 'constituent', 'TRAIL'], ['Als de klimmers trekken , duelleren de fietsers ', 'De klimmers trekken ', 'NEUTRAL', 'constituent', 'TRAIN'], ['Als de studenten leren , redden de vrouwen ', 'De studenten leren ', 'NEUTRAL', 'constituent', 'TEST'], ['Als de fietsers gooien , voeren de fotografen ', 'De fietsers gooien ', 'NEUTRAL', 'constituent', 'TEST'], ['Als de fotografen snuffelen , studeren de soldaten ', 'De fotografen snuffelen ', 'NEUTRAL', 'constituent', 'TEST'], ['Als de dochters telefoneren , duelleren de spelers ', 'De dochters telefoneren ', 'NEUTRAL', 'constituent', 'TEST'], ['Als de leerlingen ontwijken , tekenen de klimmers ', 'De leerlingen ontwijken ', 'NEUTRAL', 'constituent', 'TEST'], ['Als de jongens verlaten , leren de spelers ', 'De jongens verlaten ', 'NEUTRAL', 'constituent', 'TEST'], ['Als de hardlopers schoppen , snuffelen de spelers ', 'De hardlopers schoppen ', 'NEUTRAL', 'constituent', 'TEST'], ['De jongvolwassenen trekken of de jongens voeren ', 'De jongens voeren ', 'NEUTRAL', 'constituent', 'TEST'], ['De jongvolwassenen gooien of de vrouwen knuffelen ', 'De jongvolwassenen gooien ', 'NEUTRAL', 'constituent', 'TEST'], [\"De leerlingen worstelen of de boa's tekenen \", \"De boa's tekenen \", 'NEUTRAL', 'constituent', 'TEST'], ['De jongvolwassenen schoppen of de studenten zagen ', 'De studenten zagen ', 'NEUTRAL', 'constituent', 'TEST'], ['De vrouwen breken of de soldaten leren ', 'De soldaten leren ', 'NEUTRAL', 'constituent', 'TEST'], ['De klimmers worstelen of de dochters voeren ', 'De dochters voeren ', 'NEUTRAL', 'constituent', 'TEST'], ['De soldaten worstelen of de leerlingen duelleren ', 'De soldaten worstelen ', 'NEUTRAL', 'constituent', 'TEST'], [\"De studenten ontwijken of de boa's schoppen \", \"De boa's schoppen \", 'NEUTRAL', 'constituent', 'TRAIL'], ['De jongvolwassenen studeren of de fietsers trouwen ', 'De jongvolwassenen studeren ', 'NEUTRAL', 'constituent', 'TEST'], ['De studenten leren of de dochters ontwijken ', 'De dochters ontwijken ', 'NEUTRAL', 'constituent', 'TEST'], ['De fotografen gooien of de mimespelers schoppen ', 'De mimespelers schoppen ', 'NEUTRAL', 'constituent', 'TEST'], ['De mimespelers verlaten of de klimmers tekenen ', 'De klimmers tekenen ', 'NEUTRAL', 'constituent', 'TEST'], ['De soldaten snuffelen of de vrouwen breken ', 'De soldaten snuffelen ', 'NEUTRAL', 'constituent', 'TEST'], ['De leerlingen duelleren of de jongens voeren ', 'De leerlingen duelleren ', 'NEUTRAL', 'constituent', 'TEST'], ['De leerlingen telefoneren of de jongvolwassenen zagen ', 'De jongvolwassenen zagen ', 'NEUTRAL', 'constituent', 'TEST'], ['De spelers tekenen of de leerlingen dragen ', 'De spelers tekenen ', 'NEUTRAL', 'constituent', 'TEST'], ['De leerlingen borstelen of de jongens trouwen ', 'De leerlingen borstelen ', 'NEUTRAL', 'constituent', 'TEST'], ['De hardlopers trekken of de studenten ontwijken ', 'De studenten ontwijken ', 'NEUTRAL', 'constituent', 'TEST'], ['De soldaten dragen of de vrouwen breken ', 'De soldaten dragen ', 'NEUTRAL', 'constituent', 'TEST'], ['De vrouwen worstelen of de spelers snuffelen ', 'De vrouwen worstelen ', 'NEUTRAL', 'constituent', 'TEST'], ['De vrouwen studeren of de studenten verlaten ', 'De studenten verlaten ', 'NEUTRAL', 'constituent', 'TEST'], ['De fietsers verpletteren of de spelers borstelen ', 'De spelers borstelen ', 'NEUTRAL', 'constituent', 'TEST'], ['De mimespelers trouwen of de fotografen dragen ', 'De mimespelers trouwen ', 'NEUTRAL', 'constituent', 'TEST'], ['De studenten knuffelen of de spelers studeren ', 'De studenten knuffelen ', 'NEUTRAL', 'constituent', 'TEST'], ['De mannen studeren of de spelers trouwen ', 'De mannen studeren ', 'NEUTRAL', 'constituent', 'TEST'], [\"De studenten zagen of de boa's borstelen \", 'De studenten zagen ', 'NEUTRAL', 'constituent', 'TEST'], [\"De klimmers ontwijken of de boa's snuffelen \", \"De boa's snuffelen \", 'NEUTRAL', 'constituent', 'TEST'], [\"De boa's studeren of de soldaten verpletteren \", \"De boa's studeren \", 'NEUTRAL', 'constituent', 'TEST'], ['De mannen snuffelen of de studenten trekken ', 'De mannen snuffelen ', 'NEUTRAL', 'constituent', 'TEST'], ['De spelers worstelen of de motorrijders verpletteren ', 'De motorrijders verpletteren ', 'NEUTRAL', 'constituent', 'TEST'], ['De leerlingen zagen of de mannen duelleren ', 'De leerlingen zagen ', 'NEUTRAL', 'constituent', 'TEST'], [\"De boa's tekenen of de motorrijders snuffelen \", \"De boa's tekenen \", 'NEUTRAL', 'constituent', 'TEST'], ['De dochters trekken of de klimmers ontwijken ', 'De klimmers ontwijken ', 'NEUTRAL', 'constituent', 'TEST'], ['De mimespelers dragen of de studenten knuffelen ', 'De mimespelers dragen ', 'NEUTRAL', 'constituent', 'TEST'], [\"De boa's worstelen of de fietsers breken \", \"De boa's worstelen \", 'NEUTRAL', 'constituent', 'TEST'], ['De mannen worstelen of de spelers tekenen ', 'De mannen worstelen ', 'NEUTRAL', 'constituent', 'TEST'], [\"De boa's leren of de studenten tekenen \", 'De studenten tekenen ', 'NEUTRAL', 'constituent', 'TEST'], ['De jongens duelleren of de mannen verpletteren ', 'De jongens duelleren ', 'NEUTRAL', 'constituent', 'TEST'], [\"De hardlopers gooien of de boa's breken \", 'De hardlopers gooien ', 'NEUTRAL', 'constituent', 'TEST'], ['De motorrijders breken of de fietsers trouwen ', 'De fietsers trouwen ', 'NEUTRAL', 'constituent', 'TEST'], ['De mimespelers trouwen of de leerlingen zagen ', 'De mimespelers trouwen ', 'NEUTRAL', 'constituent', 'TEST'], ['De studenten knuffelen of de leerlingen telefoneren ', 'De leerlingen telefoneren ', 'NEUTRAL', 'constituent', 'TEST'], ['De klimmers knuffelen of de hardlopers schoppen ', 'De hardlopers schoppen ', 'NEUTRAL', 'constituent', 'TEST'], ['De mannen schoppen of de leerlingen telefoneren ', 'De leerlingen telefoneren ', 'NEUTRAL', 'constituent', 'TEST'], ['De fietsers vangen of de soldaten snuffelen ', 'De soldaten snuffelen ', 'NEUTRAL', 'constituent', 'TEST'], ['De vrouwen borstelen of de dochters zagen ', 'De dochters zagen ', 'NEUTRAL', 'constituent', 'TEST'], ['De vrouwen vangen of de motorrijders zagen ', 'De vrouwen vangen ', 'NEUTRAL', 'constituent', 'TEST'], ['De spelers knuffelen of de vrouwen ontwijken ', 'De spelers knuffelen ', 'NEUTRAL', 'constituent', 'TEST'], [\"De boa's borstelen of de leerlingen dragen \", \"De boa's borstelen \", 'NEUTRAL', 'constituent', 'TEST'], ['De jongens worstelen of de jongvolwassenen ontwijken ', 'De jongvolwassenen ontwijken ', 'NEUTRAL', 'constituent', 'TEST'], ['De jongens vangen of de mimespelers worstelen ', 'De jongens vangen ', 'NEUTRAL', 'constituent', 'TRAIN'], ['De leerlingen voeren of de klimmers snuffelen ', 'De leerlingen voeren ', 'NEUTRAL', 'constituent', 'TRAIL'], ['De fietsers borstelen of de klimmers gooien ', 'De klimmers gooien ', 'NEUTRAL', 'constituent', 'TRAIN'], ['De vrouwen borstelen of de jongens voeren ', 'De vrouwen borstelen ', 'NEUTRAL', 'constituent', 'TRAIL'], ['De jongvolwassenen snuffelen of de studenten borstelen ', 'De studenten borstelen ', 'NEUTRAL', 'constituent', 'TEST'], ['De dochters trekken of de leerlingen voeren ', 'De leerlingen voeren ', 'NEUTRAL', 'constituent', 'TRAIL'], ['De mimespelers trouwen of de jongens verlaten ', 'De mimespelers trouwen ', 'NEUTRAL', 'constituent', 'TEST'], ['De leerlingen trekken of de spelers duelleren ', 'De leerlingen trekken ', 'NEUTRAL', 'constituent', 'TEST'], ['De jongens telefoneren of de mannen borstelen ', 'De mannen borstelen ', 'NEUTRAL', 'constituent', 'TEST'], ['De dochters tekenen of de mannen borstelen ', 'De dochters tekenen ', 'NEUTRAL', 'constituent', 'TEST'], ['De studenten snuffelen of de motorrijders gooien ', 'De motorrijders gooien ', 'NEUTRAL', 'constituent', 'TEST'], ['De studenten schoppen of de fotografen ontwijken ', 'De studenten schoppen ', 'NEUTRAL', 'constituent', 'TEST'], ['De jongens gooien of de fietsers trekken ', 'De jongens gooien ', 'NEUTRAL', 'constituent', 'TEST'], ['De dochters schoppen of de vrouwen zagen ', 'De vrouwen zagen ', 'NEUTRAL', 'constituent', 'TRAIN'], ['De vrouwen zagen of de spelers dragen ', 'De spelers dragen ', 'NEUTRAL', 'constituent', 'TEST'], ['De hardlopers voeren of de soldaten vangen ', 'De soldaten vangen ', 'NEUTRAL', 'constituent', 'TEST'], ['De fotografen schoppen of de studenten voeren ', 'De fotografen schoppen ', 'NEUTRAL', 'constituent', 'TEST'], ['De jongens snuffelen of de soldaten voeren ', 'De jongens snuffelen ', 'NEUTRAL', 'constituent', 'TEST'], [\"De boa's schoppen of de studenten knuffelen \", 'De studenten knuffelen ', 'NEUTRAL', 'constituent', 'TEST'], ['De fietsers vangen of de vrouwen redden ', 'De fietsers vangen ', 'NEUTRAL', 'constituent', 'TEST'], ['De motorrijders vangen of de jongvolwassenen trouwen ', 'De motorrijders vangen ', 'NEUTRAL', 'constituent', 'TRAIN'], ['De soldaten verpletteren of de dochters snuffelen ', 'De soldaten verpletteren ', 'NEUTRAL', 'constituent', 'TEST'], ['De studenten tekenen of de klimmers snuffelen ', 'De studenten tekenen ', 'NEUTRAL', 'constituent', 'TEST'], ['De motorrijders worstelen of de klimmers voeren ', 'De motorrijders worstelen ', 'NEUTRAL', 'constituent', 'TEST'], [\"De spelers gooien of de boa's voeren \", 'De spelers gooien ', 'NEUTRAL', 'constituent', 'TEST'], ['De dochters leren of de vrouwen vangen ', 'De vrouwen vangen ', 'NEUTRAL', 'constituent', 'TEST'], ['De motorrijders redden of de klimmers trouwen ', 'De klimmers trouwen ', 'NEUTRAL', 'constituent', 'TEST'], ['De studenten verpletteren of de klimmers zagen ', 'De studenten verpletteren ', 'NEUTRAL', 'constituent', 'TEST'], ['De soldaten redden of de fotografen verpletteren ', 'De soldaten redden ', 'NEUTRAL', 'constituent', 'TEST'], ['De soldaten verpletteren of de studenten leren ', 'De soldaten verpletteren ', 'NEUTRAL', 'constituent', 'TEST'], ['De vrouwen schoppen of de fietsers leren ', 'De fietsers leren ', 'NEUTRAL', 'constituent', 'TEST'], ['De motorrijders knuffelen of de fietsers vangen ', 'De fietsers vangen ', 'NEUTRAL', 'constituent', 'TEST'], ['De fotografen studeren of de studenten telefoneren ', 'De fotografen studeren ', 'NEUTRAL', 'constituent', 'TEST'], ['De jongvolwassenen borstelen of de mannen trekken ', 'De jongvolwassenen borstelen ', 'NEUTRAL', 'constituent', 'TEST'], ['De spelers trekken of de dochters worstelen ', 'De dochters worstelen ', 'NEUTRAL', 'constituent', 'TRAIL'], ['De jongvolwassenen leren of de spelers knuffelen ', 'De spelers knuffelen ', 'NEUTRAL', 'constituent', 'TEST'], ['De fotografen trekken of de soldaten tekenen ', 'De soldaten tekenen ', 'NEUTRAL', 'constituent', 'TEST'], ['De hardlopers trekken of de spelers snuffelen ', 'De hardlopers trekken ', 'NEUTRAL', 'constituent', 'TRAIL'], [\"De boa's gooien of de jongens studeren \", \"De boa's gooien \", 'NEUTRAL', 'constituent', 'TEST'], ['De spelers duelleren of de soldaten voeren ', 'De soldaten voeren ', 'NEUTRAL', 'constituent', 'TEST'], ['De mimespelers verlaten of de fietsers redden ', 'De fietsers redden ', 'NEUTRAL', 'constituent', 'TEST'], ['De jongens zagen of de motorrijders trouwen ', 'De motorrijders trouwen ', 'NEUTRAL', 'constituent', 'TEST'], ['De mannen verlaten of de dochters vangen ', 'De dochters vangen ', 'NEUTRAL', 'constituent', 'TRAIN'], ['De fietsers trekken of de motorrijders worstelen ', 'De motorrijders worstelen ', 'NEUTRAL', 'constituent', 'TEST'], ['De leerlingen verpletteren of de jongens telefoneren ', 'De leerlingen verpletteren ', 'NEUTRAL', 'constituent', 'TRAIL'], ['De jongens leren of de motorrijders trekken ', 'De jongens leren ', 'NEUTRAL', 'constituent', 'TEST'], ['De spelers vangen of de mimespelers knuffelen ', 'De mimespelers knuffelen ', 'NEUTRAL', 'constituent', 'TEST'], ['De soldaten knuffelen of de jongvolwassenen voeren ', 'De soldaten knuffelen ', 'NEUTRAL', 'constituent', 'TEST'], ['De studenten knuffelen of de dochters voeren ', 'De studenten knuffelen ', 'NEUTRAL', 'constituent', 'TEST'], [\"De boa's knuffelen of de fotografen duelleren \", 'De fotografen duelleren ', 'NEUTRAL', 'constituent', 'TEST'], ['Als de soldaten de fietsers knuffelen , studeren de mimespelers ', 'De mimespelers studeren ', 'NEUTRAL', 'constituent', 'TRAIL'], [\"Als de dochters de boa's verlaten , gooien de soldaten \", 'De soldaten gooien ', 'NEUTRAL', 'constituent', 'TEST'], ['Als de vrouwen de motorrijders telefoneren , trekken de fotografen ', 'De fotografen trekken ', 'NEUTRAL', 'constituent', 'TEST'], ['Als de mannen de spelers knuffelen , schoppen de leerlingen ', 'De leerlingen schoppen ', 'NEUTRAL', 'constituent', 'TRAIL'], ['Als de motorrijders de studenten zagen , trouwen de soldaten ', 'De soldaten trouwen ', 'NEUTRAL', 'constituent', 'TEST'], [\"Als de fotografen de motorrijders vangen , snuffelen de boa's \", \"De boa's snuffelen \", 'NEUTRAL', 'constituent', 'TEST'], ['Als de motorrijders de dochters borstelen , breken de hardlopers ', 'De hardlopers breken ', 'NEUTRAL', 'constituent', 'TEST'], ['Als de fotografen de mimespelers verlaten , ontwijken de studenten ', 'De studenten ontwijken ', 'NEUTRAL', 'constituent', 'TRAIL'], ['Als de mimespelers de fotografen ontwijken , dragen de spelers ', 'De spelers dragen ', 'NEUTRAL', 'constituent', 'TEST'], ['Als de mimespelers de soldaten tekenen , redden de leerlingen ', 'De leerlingen redden ', 'NEUTRAL', 'constituent', 'TRAIL'], ['Als de spelers de mannen studeren , trekken de klimmers ', 'De klimmers trekken ', 'NEUTRAL', 'constituent', 'TEST'], ['Als de hardlopers de studenten schoppen , tekenen de fietsers ', 'De fietsers tekenen ', 'NEUTRAL', 'constituent', 'TEST'], ['Als de mannen de soldaten voeren , leren de jongens ', 'De jongens leren ', 'NEUTRAL', 'constituent', 'TEST'], ['Als de vrouwen de mimespelers telefoneren , gooien de jongens ', 'De jongens gooien ', 'NEUTRAL', 'constituent', 'TEST'], ['Als de dochters de mannen studeren , schoppen de fotografen ', 'De fotografen schoppen ', 'NEUTRAL', 'constituent', 'TEST'], [\"Als de soldaten de boa's telefoneren , redden de jongvolwassenen \", 'De jongvolwassenen redden ', 'NEUTRAL', 'constituent', 'TRAIN'], ['Als de mimespelers de vrouwen trouwen , zagen de leerlingen ', 'De leerlingen zagen ', 'NEUTRAL', 'constituent', 'TRAIL'], ['Als de jongvolwassenen de hardlopers worstelen , breken de fietsers ', 'De fietsers breken ', 'NEUTRAL', 'constituent', 'TRAIL'], ['Als de leerlingen de fietsers telefoneren , voeren de hardlopers ', 'De hardlopers voeren ', 'NEUTRAL', 'constituent', 'TEST'], ['Als de motorrijders de leerlingen redden , gooien de hardlopers ', 'De hardlopers gooien ', 'NEUTRAL', 'constituent', 'TEST'], [\"Als de soldaten de dochters borstelen , redden de boa's \", \"De boa's redden \", 'NEUTRAL', 'constituent', 'TEST'], ['Als de vrouwen de dochters vangen , verpletteren de mannen ', 'De mannen verpletteren ', 'NEUTRAL', 'constituent', 'TEST'], ['Als de dochters de leerlingen schoppen , ontwijken de motorrijders ', 'De motorrijders ontwijken ', 'NEUTRAL', 'constituent', 'TEST'], [\"Als de mimespelers de jongens verpletteren , snuffelen de boa's \", \"De boa's snuffelen \", 'NEUTRAL', 'constituent', 'TEST'], ['Als de jongvolwassenen de fotografen schoppen , worstelen de leerlingen ', 'De leerlingen worstelen ', 'NEUTRAL', 'constituent', 'TEST'], ['Als de fotografen de soldaten gooien , redden de jongvolwassenen ', 'De jongvolwassenen redden ', 'NEUTRAL', 'constituent', 'TEST'], [\"Als de boa's de fotografen gooien , ontwijken de motorrijders \", 'De motorrijders ontwijken ', 'NEUTRAL', 'constituent', 'TEST'], [\"Als de boa's de spelers zagen , trekken de mimespelers \", 'De mimespelers trekken ', 'NEUTRAL', 'constituent', 'TEST'], [\"Als de boa's de vrouwen redden , borstelen de fotografen \", 'De fotografen borstelen ', 'NEUTRAL', 'constituent', 'TRAIL'], ['Als de soldaten de jongvolwassenen schoppen , tekenen de dochters ', 'De dochters tekenen ', 'NEUTRAL', 'constituent', 'TEST'], ['Als de leerlingen de studenten trekken , schoppen de mannen ', 'De mannen schoppen ', 'NEUTRAL', 'constituent', 'TEST'], [\"Als de jongens de studenten dragen , vangen de boa's \", \"De boa's vangen \", 'NEUTRAL', 'constituent', 'TEST'], ['Als de vrouwen de jongens trouwen , telefoneren de fotografen ', 'De fotografen telefoneren ', 'NEUTRAL', 'constituent', 'TRAIN'], ['Als de spelers de klimmers snuffelen , knuffelen de mimespelers ', 'De mimespelers knuffelen ', 'NEUTRAL', 'constituent', 'TRAIL'], ['Als de fietsers de leerlingen ontwijken , schoppen de klimmers ', 'De klimmers schoppen ', 'NEUTRAL', 'constituent', 'TEST'], ['Als de leerlingen de mimespelers snuffelen , breken de spelers ', 'De spelers breken ', 'NEUTRAL', 'constituent', 'TEST'], ['Als de motorrijders de vrouwen snuffelen , breken de fietsers ', 'De fietsers breken ', 'NEUTRAL', 'constituent', 'TEST'], [\"Als de fietsers de hardlopers trekken , tekenen de boa's \", \"De boa's tekenen \", 'NEUTRAL', 'constituent', 'TEST'], ['Als de klimmers de spelers zagen , worstelen de studenten ', 'De studenten worstelen ', 'NEUTRAL', 'constituent', 'TEST'], ['Als de soldaten de fietsers vangen , trouwen de dochters ', 'De dochters trouwen ', 'NEUTRAL', 'constituent', 'TEST'], ['Als de jongens de hardlopers gooien , borstelen de studenten ', 'De studenten borstelen ', 'NEUTRAL', 'constituent', 'TEST'], ['Als de mannen de dochters tekenen , telefoneren de soldaten ', 'De soldaten telefoneren ', 'NEUTRAL', 'constituent', 'TEST'], ['Als de hardlopers de klimmers zagen , knuffelen de leerlingen ', 'De leerlingen knuffelen ', 'NEUTRAL', 'constituent', 'TEST'], ['Als de soldaten de hardlopers studeren , vangen de fietsers ', 'De fietsers vangen ', 'NEUTRAL', 'constituent', 'TRAIL'], ['Als de jongens de hardlopers breken , worstelen de klimmers ', 'De klimmers worstelen ', 'NEUTRAL', 'constituent', 'TRAIL'], ['Als de fotografen de hardlopers studeren , zagen de motorrijders ', 'De motorrijders zagen ', 'NEUTRAL', 'constituent', 'TEST'], ['Als de jongens de spelers studeren , verlaten de studenten ', 'De studenten verlaten ', 'NEUTRAL', 'constituent', 'TEST'], ['Als de jongvolwassenen de leerlingen trouwen , knuffelen de jongens ', 'De jongens knuffelen ', 'NEUTRAL', 'constituent', 'TEST'], [\"Als de studenten de boa's telefoneren , studeren de leerlingen \", 'De leerlingen studeren ', 'NEUTRAL', 'constituent', 'TEST'], ['Als de vrouwen de fietsers zagen , verpletteren de spelers ', 'De spelers verpletteren ', 'NEUTRAL', 'constituent', 'TEST'], ['Als de fietsers de klimmers worstelen , schoppen de spelers ', 'De spelers schoppen ', 'NEUTRAL', 'constituent', 'TEST'], ['Als de fietsers de vrouwen dragen , schoppen de fotografen ', 'De fotografen schoppen ', 'NEUTRAL', 'constituent', 'TEST'], ['Als de klimmers de hardlopers dragen , redden de jongens ', 'De jongens redden ', 'NEUTRAL', 'constituent', 'TEST'], ['Als de leerlingen de fotografen duelleren , trekken de vrouwen ', 'De vrouwen trekken ', 'NEUTRAL', 'constituent', 'TEST'], ['Als de klimmers de fotografen telefoneren , duelleren de leerlingen ', 'De leerlingen duelleren ', 'NEUTRAL', 'constituent', 'TEST'], [\"Als de boa's de dochters zagen , borstelen de mimespelers \", 'De mimespelers borstelen ', 'NEUTRAL', 'constituent', 'TRAIL'], ['Als de fotografen de spelers knuffelen , zagen de motorrijders ', 'De motorrijders zagen ', 'NEUTRAL', 'constituent', 'TRAIN'], ['Als de jongvolwassenen de hardlopers breken , studeren de motorrijders ', 'De motorrijders studeren ', 'NEUTRAL', 'constituent', 'TEST'], ['Als de jongvolwassenen de jongens knuffelen , schoppen de dochters ', 'De dochters schoppen ', 'NEUTRAL', 'constituent', 'TEST'], ['Als de spelers de mannen studeren , ontwijken de leerlingen ', 'De leerlingen ontwijken ', 'NEUTRAL', 'constituent', 'TRAIN'], ['Als de vrouwen de dochters knuffelen , telefoneren de leerlingen ', 'De leerlingen telefoneren ', 'NEUTRAL', 'constituent', 'TEST'], [\"Als de leerlingen de boa's knuffelen , redden de hardlopers \", 'De hardlopers redden ', 'NEUTRAL', 'constituent', 'TEST'], ['Als de mimespelers de motorrijders verpletteren , leren de studenten ', 'De studenten leren ', 'NEUTRAL', 'constituent', 'TEST'], ['Als de hardlopers de leerlingen duelleren , breken de jongvolwassenen ', 'De jongvolwassenen breken ', 'NEUTRAL', 'constituent', 'TRAIL'], ['Als de klimmers de fietsers duelleren , worstelen de hardlopers ', 'De hardlopers worstelen ', 'NEUTRAL', 'constituent', 'TRAIL'], ['Als de spelers de jongens studeren , dragen de motorrijders ', 'De motorrijders dragen ', 'NEUTRAL', 'constituent', 'TEST'], ['Als de mannen de mimespelers duelleren , trouwen de fotografen ', 'De fotografen trouwen ', 'NEUTRAL', 'constituent', 'TEST'], ['Als de jongvolwassenen de klimmers leren , schoppen de spelers ', 'De spelers schoppen ', 'NEUTRAL', 'constituent', 'TEST'], ['Als de fotografen de mimespelers breken , schoppen de studenten ', 'De studenten schoppen ', 'NEUTRAL', 'constituent', 'TEST'], [\"Als de klimmers de fotografen verlaten , dragen de boa's \", \"De boa's dragen \", 'NEUTRAL', 'constituent', 'TEST'], ['Als de klimmers de vrouwen gooien , trekken de fietsers ', 'De fietsers trekken ', 'NEUTRAL', 'constituent', 'TEST'], ['Als de hardlopers de fotografen dragen , schoppen de jongens ', 'De jongens schoppen ', 'NEUTRAL', 'constituent', 'TEST'], ['Als de klimmers de hardlopers leren , trouwen de fotografen ', 'De fotografen trouwen ', 'NEUTRAL', 'constituent', 'TEST'], ['Als de jongvolwassenen de spelers schoppen , trekken de vrouwen ', 'De vrouwen trekken ', 'NEUTRAL', 'constituent', 'TRAIL'], ['Als de motorrijders de leerlingen redden , breken de klimmers ', 'De klimmers breken ', 'NEUTRAL', 'constituent', 'TEST'], ['Als de dochters de hardlopers trekken , knuffelen de klimmers ', 'De klimmers knuffelen ', 'NEUTRAL', 'constituent', 'TEST'], ['Als de motorrijders de hardlopers gooien , redden de spelers ', 'De spelers redden ', 'NEUTRAL', 'constituent', 'TEST'], ['Als de mannen de fotografen telefoneren , vangen de jongens ', 'De jongens vangen ', 'NEUTRAL', 'constituent', 'TEST'], ['Als de fietsers de jongvolwassenen voeren , vangen de fotografen ', 'De fotografen vangen ', 'NEUTRAL', 'constituent', 'TEST'], ['Als de fietsers de mannen tekenen , snuffelen de dochters ', 'De dochters snuffelen ', 'NEUTRAL', 'constituent', 'TEST'], ['Als de spelers de soldaten borstelen , worstelen de dochters ', 'De dochters worstelen ', 'NEUTRAL', 'constituent', 'TEST'], ['Als de vrouwen de fotografen voeren , redden de studenten ', 'De studenten redden ', 'NEUTRAL', 'constituent', 'TEST'], ['Als de vrouwen de leerlingen schoppen , tekenen de fietsers ', 'De fietsers tekenen ', 'NEUTRAL', 'constituent', 'TEST'], ['Als de vrouwen de mimespelers dragen , verlaten de motorrijders ', 'De motorrijders verlaten ', 'NEUTRAL', 'constituent', 'TEST'], ['Als de jongens de mimespelers gooien , telefoneren de soldaten ', 'De soldaten telefoneren ', 'NEUTRAL', 'constituent', 'TEST'], ['Als de studenten de jongvolwassenen worstelen , trekken de leerlingen ', 'De leerlingen trekken ', 'NEUTRAL', 'constituent', 'TEST'], ['Als de mannen de klimmers zagen , telefoneren de dochters ', 'De dochters telefoneren ', 'NEUTRAL', 'constituent', 'TEST'], ['Als de studenten de motorrijders verlaten , snuffelen de soldaten ', 'De soldaten snuffelen ', 'NEUTRAL', 'constituent', 'TEST'], [\"Als de boa's de studenten breken , borstelen de spelers \", 'De spelers borstelen ', 'NEUTRAL', 'constituent', 'TEST'], ['Als de jongvolwassenen de dochters vangen , zagen de vrouwen ', 'De vrouwen zagen ', 'NEUTRAL', 'constituent', 'TEST'], ['Als de dochters de mannen breken , worstelen de hardlopers ', 'De hardlopers worstelen ', 'NEUTRAL', 'constituent', 'TEST'], ['Als de soldaten de klimmers leren , tekenen de hardlopers ', 'De hardlopers tekenen ', 'NEUTRAL', 'constituent', 'TEST'], ['Als de mimespelers de fietsers leren , zagen de dochters ', 'De dochters zagen ', 'NEUTRAL', 'constituent', 'TRAIN'], ['Als de fotografen de klimmers gooien , telefoneren de studenten ', 'De studenten telefoneren ', 'NEUTRAL', 'constituent', 'TEST'], ['Als de jongvolwassenen de fietsers leren , voeren de klimmers ', 'De klimmers voeren ', 'NEUTRAL', 'constituent', 'TRAIL'], ['Als de vrouwen de mannen voeren , verpletteren de jongvolwassenen ', 'De jongvolwassenen verpletteren ', 'NEUTRAL', 'constituent', 'TRAIL'], ['Als de motorrijders de mimespelers worstelen , trouwen de klimmers ', 'De klimmers trouwen ', 'NEUTRAL', 'constituent', 'TEST'], [\"Als de mannen de jongvolwassenen redden , leren de boa's \", \"De boa's leren \", 'NEUTRAL', 'constituent', 'TEST'], [\"Als de boa's de klimmers knuffelen , snuffelen de jongvolwassenen \", 'De jongvolwassenen snuffelen ', 'NEUTRAL', 'constituent', 'TEST'], ['Als de leerlingen de dochters snuffelen , trouwen de mimespelers ', 'De mimespelers trouwen ', 'NEUTRAL', 'constituent', 'TEST']]\n",
            "[('Als de leerlingen leren , verlaten de jongens ', 'De leerlingen leren ', 'NEUTRAL', 'constituent', 'TEST'), ('Als de studenten ontwijken , studeren de vrouwen ', 'De studenten ontwijken ', 'NEUTRAL', 'constituent', 'TEST'), ('Als de klimmers knuffelen , redden de spelers ', 'De klimmers knuffelen ', 'NEUTRAL', 'constituent', 'TEST'), ('Als de leerlingen voeren , duelleren de dochters ', 'De leerlingen voeren ', 'NEUTRAL', 'constituent', 'TEST'), ('Als de jongens leren , duelleren de soldaten ', 'De jongens leren ', 'NEUTRAL', 'constituent', 'TEST'), ('Als de spelers redden , voeren de fotografen ', 'De spelers redden ', 'NEUTRAL', 'constituent', 'TEST'), ('Als de jongens trekken , telefoneren de klimmers ', 'De jongens trekken ', 'NEUTRAL', 'constituent', 'TEST'), ('Als de mimespelers worstelen , tekenen de fotografen ', 'De mimespelers worstelen ', 'NEUTRAL', 'constituent', 'TEST'), (\"Als de studenten gooien , worstelen de boa's \", 'De studenten gooien ', 'NEUTRAL', 'constituent', 'TEST'), ('Als de hardlopers gooien , redden de fietsers ', 'De hardlopers gooien ', 'NEUTRAL', 'constituent', 'TEST'), ('Als de mannen breken , ontwijken de studenten ', 'De mannen breken ', 'NEUTRAL', 'constituent', 'TEST'), ('Als de fietsers schoppen , dragen de mimespelers ', 'De fietsers schoppen ', 'NEUTRAL', 'constituent', 'TRAIN'), ('Als de jongvolwassenen verlaten , knuffelen de studenten ', 'De jongvolwassenen verlaten ', 'NEUTRAL', 'constituent', 'TEST'), ('Als de fietsers redden , voeren de spelers ', 'De fietsers redden ', 'NEUTRAL', 'constituent', 'TRAIN'), ('Als de klimmers vangen , tekenen de vrouwen ', 'De klimmers vangen ', 'NEUTRAL', 'constituent', 'TEST'), ('Als de fotografen tekenen , trouwen de vrouwen ', 'De fotografen tekenen ', 'NEUTRAL', 'constituent', 'TEST'), ('Als de hardlopers dragen , borstelen de studenten ', 'De hardlopers dragen ', 'NEUTRAL', 'constituent', 'TEST'), ('Als de studenten borstelen , breken de leerlingen ', 'De studenten borstelen ', 'NEUTRAL', 'constituent', 'TEST'), ('Als de vrouwen ontwijken , gooien de fotografen ', 'De vrouwen ontwijken ', 'NEUTRAL', 'constituent', 'TRAIL'), ('Als de hardlopers trouwen , borstelen de jongvolwassenen ', 'De hardlopers trouwen ', 'NEUTRAL', 'constituent', 'TEST'), (\"Als de mimespelers trouwen , dragen de boa's \", 'De mimespelers trouwen ', 'NEUTRAL', 'constituent', 'TEST'), ('Als de motorrijders redden , zagen de studenten ', 'De motorrijders redden ', 'NEUTRAL', 'constituent', 'TEST'), ('Als de vrouwen vangen , ontwijken de mannen ', 'De vrouwen vangen ', 'NEUTRAL', 'constituent', 'TRAIL'), ('Als de mimespelers leren , ontwijken de studenten ', 'De mimespelers leren ', 'NEUTRAL', 'constituent', 'TEST'), ('Als de fotografen worstelen , trekken de jongens ', 'De fotografen worstelen ', 'NEUTRAL', 'constituent', 'TEST'), ('Als de mimespelers ontwijken , schoppen de jongvolwassenen ', 'De mimespelers ontwijken ', 'NEUTRAL', 'constituent', 'TEST'), ('Als de motorrijders trouwen , schoppen de spelers ', 'De motorrijders trouwen ', 'NEUTRAL', 'constituent', 'TEST'), ('Als de vrouwen duelleren , zagen de jongvolwassenen ', 'De vrouwen duelleren ', 'NEUTRAL', 'constituent', 'TEST'), ('Als de jongens ontwijken , redden de mimespelers ', 'De jongens ontwijken ', 'NEUTRAL', 'constituent', 'TEST'), ('Als de dochters gooien , worstelen de studenten ', 'De dochters gooien ', 'NEUTRAL', 'constituent', 'TEST'), ('Als de mannen verlaten , worstelen de dochters ', 'De mannen verlaten ', 'NEUTRAL', 'constituent', 'TEST'), ('Als de fietsers trekken , snuffelen de jongvolwassenen ', 'De fietsers trekken ', 'NEUTRAL', 'constituent', 'TEST'), ('Als de fietsers verlaten , worstelen de vrouwen ', 'De fietsers verlaten ', 'NEUTRAL', 'constituent', 'TEST'), ('Als de jongens ontwijken , verpletteren de klimmers ', 'De jongens ontwijken ', 'NEUTRAL', 'constituent', 'TEST'), ('Als de hardlopers redden , duelleren de spelers ', 'De hardlopers redden ', 'NEUTRAL', 'constituent', 'TEST'), ('Als de soldaten schoppen , tekenen de dochters ', 'De soldaten schoppen ', 'NEUTRAL', 'constituent', 'TEST'), ('Als de mannen redden , knuffelen de klimmers ', 'De mannen redden ', 'NEUTRAL', 'constituent', 'TEST'), (\"Als de boa's dragen , ontwijken de mannen \", \"De boa's dragen \", 'NEUTRAL', 'constituent', 'TEST'), ('Als de jongvolwassenen trouwen , tekenen de leerlingen ', 'De jongvolwassenen trouwen ', 'NEUTRAL', 'constituent', 'TEST'), ('Als de fietsers zagen , vangen de mimespelers ', 'De fietsers zagen ', 'NEUTRAL', 'constituent', 'TRAIN'), ('Als de jongens snuffelen , worstelen de dochters ', 'De jongens snuffelen ', 'NEUTRAL', 'constituent', 'TEST'), ('Als de fietsers duelleren , vangen de studenten ', 'De fietsers duelleren ', 'NEUTRAL', 'constituent', 'TEST'), ('Als de mannen voeren , vangen de studenten ', 'De mannen voeren ', 'NEUTRAL', 'constituent', 'TEST'), ('Als de dochters schoppen , snuffelen de klimmers ', 'De dochters schoppen ', 'NEUTRAL', 'constituent', 'TEST'), ('Als de jongens studeren , trouwen de leerlingen ', 'De jongens studeren ', 'NEUTRAL', 'constituent', 'TEST'), ('Als de spelers verpletteren , trekken de dochters ', 'De spelers verpletteren ', 'NEUTRAL', 'constituent', 'TEST'), (\"Als de hardlopers zagen , studeren de boa's \", 'De hardlopers zagen ', 'NEUTRAL', 'constituent', 'TEST'), ('Als de fietsers tekenen , knuffelen de studenten ', 'De fietsers tekenen ', 'NEUTRAL', 'constituent', 'TRAIN'), ('Als de studenten duelleren , voeren de leerlingen ', 'De studenten duelleren ', 'NEUTRAL', 'constituent', 'TEST'), (\"Als de leerlingen zagen , breken de boa's \", 'De leerlingen zagen ', 'NEUTRAL', 'constituent', 'TEST'), ('Als de fietsers dragen , leren de studenten ', 'De fietsers dragen ', 'NEUTRAL', 'constituent', 'TRAIN'), ('Als de mimespelers trekken , trouwen de hardlopers ', 'De mimespelers trekken ', 'NEUTRAL', 'constituent', 'TEST'), ('Als de jongens worstelen , telefoneren de vrouwen ', 'De jongens worstelen ', 'NEUTRAL', 'constituent', 'TEST'), ('Als de mannen verpletteren , breken de jongens ', 'De mannen verpletteren ', 'NEUTRAL', 'constituent', 'TRAIN'), (\"Als de motorrijders voeren , dragen de boa's \", 'De motorrijders voeren ', 'NEUTRAL', 'constituent', 'TRAIN'), ('Als de mannen leren , redden de mimespelers ', 'De mannen leren ', 'NEUTRAL', 'constituent', 'TEST'), ('Als de jongvolwassenen gooien , voeren de studenten ', 'De jongvolwassenen gooien ', 'NEUTRAL', 'constituent', 'TEST'), (\"Als de boa's leren , telefoneren de jongvolwassenen \", \"De boa's leren \", 'NEUTRAL', 'constituent', 'TRAIN'), ('Als de dochters duelleren , tekenen de motorrijders ', 'De dochters duelleren ', 'NEUTRAL', 'constituent', 'TEST'), ('Als de mimespelers leren , verlaten de soldaten ', 'De mimespelers leren ', 'NEUTRAL', 'constituent', 'TEST'), ('Als de spelers trouwen , verlaten de mimespelers ', 'De spelers trouwen ', 'NEUTRAL', 'constituent', 'TEST'), (\"Als de klimmers tekenen , vangen de boa's \", 'De klimmers tekenen ', 'NEUTRAL', 'constituent', 'TEST'), ('Als de jongens tekenen , verlaten de leerlingen ', 'De jongens tekenen ', 'NEUTRAL', 'constituent', 'TEST'), ('Als de leerlingen dragen , voeren de mannen ', 'De leerlingen dragen ', 'NEUTRAL', 'constituent', 'TEST'), ('Als de vrouwen worstelen , snuffelen de leerlingen ', 'De vrouwen worstelen ', 'NEUTRAL', 'constituent', 'TEST'), ('Als de studenten breken , schoppen de mannen ', 'De studenten breken ', 'NEUTRAL', 'constituent', 'TEST'), ('Als de studenten knuffelen , voeren de spelers ', 'De studenten knuffelen ', 'NEUTRAL', 'constituent', 'TEST'), ('Als de studenten studeren , tekenen de klimmers ', 'De studenten studeren ', 'NEUTRAL', 'constituent', 'TEST'), (\"Als de boa's verlaten , vangen de spelers \", \"De boa's verlaten \", 'NEUTRAL', 'constituent', 'TEST'), ('Als de vrouwen voeren , zagen de leerlingen ', 'De vrouwen voeren ', 'NEUTRAL', 'constituent', 'TRAIN'), ('Als de jongens gooien , duelleren de motorrijders ', 'De jongens gooien ', 'NEUTRAL', 'constituent', 'TEST'), ('Als de vrouwen dragen , ontwijken de jongvolwassenen ', 'De vrouwen dragen ', 'NEUTRAL', 'constituent', 'TEST'), ('Als de hardlopers tekenen , worstelen de spelers ', 'De hardlopers tekenen ', 'NEUTRAL', 'constituent', 'TEST'), ('Als de jongvolwassenen borstelen , redden de hardlopers ', 'De jongvolwassenen borstelen ', 'NEUTRAL', 'constituent', 'TRAIL'), ('Als de jongvolwassenen schoppen , studeren de jongens ', 'De jongvolwassenen schoppen ', 'NEUTRAL', 'constituent', 'TEST'), ('Als de mannen knuffelen , verlaten de klimmers ', 'De mannen knuffelen ', 'NEUTRAL', 'constituent', 'TEST'), ('Als de studenten telefoneren , snuffelen de hardlopers ', 'De studenten telefoneren ', 'NEUTRAL', 'constituent', 'TEST'), ('Als de soldaten redden , breken de fotografen ', 'De soldaten redden ', 'NEUTRAL', 'constituent', 'TEST'), ('Als de leerlingen studeren , snuffelen de vrouwen ', 'De leerlingen studeren ', 'NEUTRAL', 'constituent', 'TEST'), ('Als de mannen schoppen , borstelen de hardlopers ', 'De mannen schoppen ', 'NEUTRAL', 'constituent', 'TEST'), ('Als de mimespelers breken , studeren de spelers ', 'De mimespelers breken ', 'NEUTRAL', 'constituent', 'TEST'), (\"Als de boa's vangen , zagen de mimespelers \", \"De boa's vangen \", 'NEUTRAL', 'constituent', 'TEST'), ('Als de fietsers zagen , redden de vrouwen ', 'De fietsers zagen ', 'NEUTRAL', 'constituent', 'TEST'), ('Als de leerlingen zagen , gooien de mannen ', 'De leerlingen zagen ', 'NEUTRAL', 'constituent', 'TEST'), ('Als de soldaten trouwen , duelleren de motorrijders ', 'De soldaten trouwen ', 'NEUTRAL', 'constituent', 'TEST'), ('Als de motorrijders redden , leren de leerlingen ', 'De motorrijders redden ', 'NEUTRAL', 'constituent', 'TRAIN'), ('Als de mannen zagen , verpletteren de spelers ', 'De mannen zagen ', 'NEUTRAL', 'constituent', 'TEST'), ('Als de jongens knuffelen , borstelen de leerlingen ', 'De jongens knuffelen ', 'NEUTRAL', 'constituent', 'TEST'), ('Als de leerlingen snuffelen , leren de hardlopers ', 'De leerlingen snuffelen ', 'NEUTRAL', 'constituent', 'TRAIN'), ('Als de klimmers verpletteren , leren de jongvolwassenen ', 'De klimmers verpletteren ', 'NEUTRAL', 'constituent', 'TRAIL'), ('Als de studenten worstelen , snuffelen de dochters ', 'De studenten worstelen ', 'NEUTRAL', 'constituent', 'TRAIN'), ('Als de motorrijders zagen , snuffelen de jongvolwassenen ', 'De motorrijders zagen ', 'NEUTRAL', 'constituent', 'TRAIL'), ('Als de klimmers trekken , duelleren de fietsers ', 'De klimmers trekken ', 'NEUTRAL', 'constituent', 'TRAIN'), ('Als de studenten leren , redden de vrouwen ', 'De studenten leren ', 'NEUTRAL', 'constituent', 'TEST'), ('Als de fietsers gooien , voeren de fotografen ', 'De fietsers gooien ', 'NEUTRAL', 'constituent', 'TEST'), ('Als de fotografen snuffelen , studeren de soldaten ', 'De fotografen snuffelen ', 'NEUTRAL', 'constituent', 'TEST'), ('Als de dochters telefoneren , duelleren de spelers ', 'De dochters telefoneren ', 'NEUTRAL', 'constituent', 'TEST'), ('Als de leerlingen ontwijken , tekenen de klimmers ', 'De leerlingen ontwijken ', 'NEUTRAL', 'constituent', 'TEST'), ('Als de jongens verlaten , leren de spelers ', 'De jongens verlaten ', 'NEUTRAL', 'constituent', 'TEST'), ('Als de hardlopers schoppen , snuffelen de spelers ', 'De hardlopers schoppen ', 'NEUTRAL', 'constituent', 'TEST'), ('De jongvolwassenen trekken of de jongens voeren ', 'De jongens voeren ', 'NEUTRAL', 'constituent', 'TEST'), ('De jongvolwassenen gooien of de vrouwen knuffelen ', 'De jongvolwassenen gooien ', 'NEUTRAL', 'constituent', 'TEST'), (\"De leerlingen worstelen of de boa's tekenen \", \"De boa's tekenen \", 'NEUTRAL', 'constituent', 'TEST'), ('De jongvolwassenen schoppen of de studenten zagen ', 'De studenten zagen ', 'NEUTRAL', 'constituent', 'TEST'), ('De vrouwen breken of de soldaten leren ', 'De soldaten leren ', 'NEUTRAL', 'constituent', 'TEST'), ('De klimmers worstelen of de dochters voeren ', 'De dochters voeren ', 'NEUTRAL', 'constituent', 'TEST'), ('De soldaten worstelen of de leerlingen duelleren ', 'De soldaten worstelen ', 'NEUTRAL', 'constituent', 'TEST'), (\"De studenten ontwijken of de boa's schoppen \", \"De boa's schoppen \", 'NEUTRAL', 'constituent', 'TRAIL'), ('De jongvolwassenen studeren of de fietsers trouwen ', 'De jongvolwassenen studeren ', 'NEUTRAL', 'constituent', 'TEST'), ('De studenten leren of de dochters ontwijken ', 'De dochters ontwijken ', 'NEUTRAL', 'constituent', 'TEST'), ('De fotografen gooien of de mimespelers schoppen ', 'De mimespelers schoppen ', 'NEUTRAL', 'constituent', 'TEST'), ('De mimespelers verlaten of de klimmers tekenen ', 'De klimmers tekenen ', 'NEUTRAL', 'constituent', 'TEST'), ('De soldaten snuffelen of de vrouwen breken ', 'De soldaten snuffelen ', 'NEUTRAL', 'constituent', 'TEST'), ('De leerlingen duelleren of de jongens voeren ', 'De leerlingen duelleren ', 'NEUTRAL', 'constituent', 'TEST'), ('De leerlingen telefoneren of de jongvolwassenen zagen ', 'De jongvolwassenen zagen ', 'NEUTRAL', 'constituent', 'TEST'), ('De spelers tekenen of de leerlingen dragen ', 'De spelers tekenen ', 'NEUTRAL', 'constituent', 'TEST'), ('De leerlingen borstelen of de jongens trouwen ', 'De leerlingen borstelen ', 'NEUTRAL', 'constituent', 'TEST'), ('De hardlopers trekken of de studenten ontwijken ', 'De studenten ontwijken ', 'NEUTRAL', 'constituent', 'TEST'), ('De soldaten dragen of de vrouwen breken ', 'De soldaten dragen ', 'NEUTRAL', 'constituent', 'TEST'), ('De vrouwen worstelen of de spelers snuffelen ', 'De vrouwen worstelen ', 'NEUTRAL', 'constituent', 'TEST'), ('De vrouwen studeren of de studenten verlaten ', 'De studenten verlaten ', 'NEUTRAL', 'constituent', 'TEST'), ('De fietsers verpletteren of de spelers borstelen ', 'De spelers borstelen ', 'NEUTRAL', 'constituent', 'TEST'), ('De mimespelers trouwen of de fotografen dragen ', 'De mimespelers trouwen ', 'NEUTRAL', 'constituent', 'TEST'), ('De studenten knuffelen of de spelers studeren ', 'De studenten knuffelen ', 'NEUTRAL', 'constituent', 'TEST'), ('De mannen studeren of de spelers trouwen ', 'De mannen studeren ', 'NEUTRAL', 'constituent', 'TEST'), (\"De studenten zagen of de boa's borstelen \", 'De studenten zagen ', 'NEUTRAL', 'constituent', 'TEST'), (\"De klimmers ontwijken of de boa's snuffelen \", \"De boa's snuffelen \", 'NEUTRAL', 'constituent', 'TEST'), (\"De boa's studeren of de soldaten verpletteren \", \"De boa's studeren \", 'NEUTRAL', 'constituent', 'TEST'), ('De mannen snuffelen of de studenten trekken ', 'De mannen snuffelen ', 'NEUTRAL', 'constituent', 'TEST'), ('De spelers worstelen of de motorrijders verpletteren ', 'De motorrijders verpletteren ', 'NEUTRAL', 'constituent', 'TEST'), ('De leerlingen zagen of de mannen duelleren ', 'De leerlingen zagen ', 'NEUTRAL', 'constituent', 'TEST'), (\"De boa's tekenen of de motorrijders snuffelen \", \"De boa's tekenen \", 'NEUTRAL', 'constituent', 'TEST'), ('De dochters trekken of de klimmers ontwijken ', 'De klimmers ontwijken ', 'NEUTRAL', 'constituent', 'TEST'), ('De mimespelers dragen of de studenten knuffelen ', 'De mimespelers dragen ', 'NEUTRAL', 'constituent', 'TEST'), (\"De boa's worstelen of de fietsers breken \", \"De boa's worstelen \", 'NEUTRAL', 'constituent', 'TEST'), ('De mannen worstelen of de spelers tekenen ', 'De mannen worstelen ', 'NEUTRAL', 'constituent', 'TEST'), (\"De boa's leren of de studenten tekenen \", 'De studenten tekenen ', 'NEUTRAL', 'constituent', 'TEST'), ('De jongens duelleren of de mannen verpletteren ', 'De jongens duelleren ', 'NEUTRAL', 'constituent', 'TEST'), (\"De hardlopers gooien of de boa's breken \", 'De hardlopers gooien ', 'NEUTRAL', 'constituent', 'TEST'), ('De motorrijders breken of de fietsers trouwen ', 'De fietsers trouwen ', 'NEUTRAL', 'constituent', 'TEST'), ('De mimespelers trouwen of de leerlingen zagen ', 'De mimespelers trouwen ', 'NEUTRAL', 'constituent', 'TEST'), ('De studenten knuffelen of de leerlingen telefoneren ', 'De leerlingen telefoneren ', 'NEUTRAL', 'constituent', 'TEST'), ('De klimmers knuffelen of de hardlopers schoppen ', 'De hardlopers schoppen ', 'NEUTRAL', 'constituent', 'TEST'), ('De mannen schoppen of de leerlingen telefoneren ', 'De leerlingen telefoneren ', 'NEUTRAL', 'constituent', 'TEST'), ('De fietsers vangen of de soldaten snuffelen ', 'De soldaten snuffelen ', 'NEUTRAL', 'constituent', 'TEST'), ('De vrouwen borstelen of de dochters zagen ', 'De dochters zagen ', 'NEUTRAL', 'constituent', 'TEST'), ('De vrouwen vangen of de motorrijders zagen ', 'De vrouwen vangen ', 'NEUTRAL', 'constituent', 'TEST'), ('De spelers knuffelen of de vrouwen ontwijken ', 'De spelers knuffelen ', 'NEUTRAL', 'constituent', 'TEST'), (\"De boa's borstelen of de leerlingen dragen \", \"De boa's borstelen \", 'NEUTRAL', 'constituent', 'TEST'), ('De jongens worstelen of de jongvolwassenen ontwijken ', 'De jongvolwassenen ontwijken ', 'NEUTRAL', 'constituent', 'TEST'), ('De jongens vangen of de mimespelers worstelen ', 'De jongens vangen ', 'NEUTRAL', 'constituent', 'TRAIN'), ('De leerlingen voeren of de klimmers snuffelen ', 'De leerlingen voeren ', 'NEUTRAL', 'constituent', 'TRAIL'), ('De fietsers borstelen of de klimmers gooien ', 'De klimmers gooien ', 'NEUTRAL', 'constituent', 'TRAIN'), ('De vrouwen borstelen of de jongens voeren ', 'De vrouwen borstelen ', 'NEUTRAL', 'constituent', 'TRAIL'), ('De jongvolwassenen snuffelen of de studenten borstelen ', 'De studenten borstelen ', 'NEUTRAL', 'constituent', 'TEST'), ('De dochters trekken of de leerlingen voeren ', 'De leerlingen voeren ', 'NEUTRAL', 'constituent', 'TRAIL'), ('De mimespelers trouwen of de jongens verlaten ', 'De mimespelers trouwen ', 'NEUTRAL', 'constituent', 'TEST'), ('De leerlingen trekken of de spelers duelleren ', 'De leerlingen trekken ', 'NEUTRAL', 'constituent', 'TEST'), ('De jongens telefoneren of de mannen borstelen ', 'De mannen borstelen ', 'NEUTRAL', 'constituent', 'TEST'), ('De dochters tekenen of de mannen borstelen ', 'De dochters tekenen ', 'NEUTRAL', 'constituent', 'TEST'), ('De studenten snuffelen of de motorrijders gooien ', 'De motorrijders gooien ', 'NEUTRAL', 'constituent', 'TEST'), ('De studenten schoppen of de fotografen ontwijken ', 'De studenten schoppen ', 'NEUTRAL', 'constituent', 'TEST'), ('De jongens gooien of de fietsers trekken ', 'De jongens gooien ', 'NEUTRAL', 'constituent', 'TEST'), ('De dochters schoppen of de vrouwen zagen ', 'De vrouwen zagen ', 'NEUTRAL', 'constituent', 'TRAIN'), ('De vrouwen zagen of de spelers dragen ', 'De spelers dragen ', 'NEUTRAL', 'constituent', 'TEST'), ('De hardlopers voeren of de soldaten vangen ', 'De soldaten vangen ', 'NEUTRAL', 'constituent', 'TEST'), ('De fotografen schoppen of de studenten voeren ', 'De fotografen schoppen ', 'NEUTRAL', 'constituent', 'TEST'), ('De jongens snuffelen of de soldaten voeren ', 'De jongens snuffelen ', 'NEUTRAL', 'constituent', 'TEST'), (\"De boa's schoppen of de studenten knuffelen \", 'De studenten knuffelen ', 'NEUTRAL', 'constituent', 'TEST'), ('De fietsers vangen of de vrouwen redden ', 'De fietsers vangen ', 'NEUTRAL', 'constituent', 'TEST'), ('De motorrijders vangen of de jongvolwassenen trouwen ', 'De motorrijders vangen ', 'NEUTRAL', 'constituent', 'TRAIN'), ('De soldaten verpletteren of de dochters snuffelen ', 'De soldaten verpletteren ', 'NEUTRAL', 'constituent', 'TEST'), ('De studenten tekenen of de klimmers snuffelen ', 'De studenten tekenen ', 'NEUTRAL', 'constituent', 'TEST'), ('De motorrijders worstelen of de klimmers voeren ', 'De motorrijders worstelen ', 'NEUTRAL', 'constituent', 'TEST'), (\"De spelers gooien of de boa's voeren \", 'De spelers gooien ', 'NEUTRAL', 'constituent', 'TEST'), ('De dochters leren of de vrouwen vangen ', 'De vrouwen vangen ', 'NEUTRAL', 'constituent', 'TEST'), ('De motorrijders redden of de klimmers trouwen ', 'De klimmers trouwen ', 'NEUTRAL', 'constituent', 'TEST'), ('De studenten verpletteren of de klimmers zagen ', 'De studenten verpletteren ', 'NEUTRAL', 'constituent', 'TEST'), ('De soldaten redden of de fotografen verpletteren ', 'De soldaten redden ', 'NEUTRAL', 'constituent', 'TEST'), ('De soldaten verpletteren of de studenten leren ', 'De soldaten verpletteren ', 'NEUTRAL', 'constituent', 'TEST'), ('De vrouwen schoppen of de fietsers leren ', 'De fietsers leren ', 'NEUTRAL', 'constituent', 'TEST'), ('De motorrijders knuffelen of de fietsers vangen ', 'De fietsers vangen ', 'NEUTRAL', 'constituent', 'TEST'), ('De fotografen studeren of de studenten telefoneren ', 'De fotografen studeren ', 'NEUTRAL', 'constituent', 'TEST'), ('De jongvolwassenen borstelen of de mannen trekken ', 'De jongvolwassenen borstelen ', 'NEUTRAL', 'constituent', 'TEST'), ('De spelers trekken of de dochters worstelen ', 'De dochters worstelen ', 'NEUTRAL', 'constituent', 'TRAIL'), ('De jongvolwassenen leren of de spelers knuffelen ', 'De spelers knuffelen ', 'NEUTRAL', 'constituent', 'TEST'), ('De fotografen trekken of de soldaten tekenen ', 'De soldaten tekenen ', 'NEUTRAL', 'constituent', 'TEST'), ('De hardlopers trekken of de spelers snuffelen ', 'De hardlopers trekken ', 'NEUTRAL', 'constituent', 'TRAIL'), (\"De boa's gooien of de jongens studeren \", \"De boa's gooien \", 'NEUTRAL', 'constituent', 'TEST'), ('De spelers duelleren of de soldaten voeren ', 'De soldaten voeren ', 'NEUTRAL', 'constituent', 'TEST'), ('De mimespelers verlaten of de fietsers redden ', 'De fietsers redden ', 'NEUTRAL', 'constituent', 'TEST'), ('De jongens zagen of de motorrijders trouwen ', 'De motorrijders trouwen ', 'NEUTRAL', 'constituent', 'TEST'), ('De mannen verlaten of de dochters vangen ', 'De dochters vangen ', 'NEUTRAL', 'constituent', 'TRAIN'), ('De fietsers trekken of de motorrijders worstelen ', 'De motorrijders worstelen ', 'NEUTRAL', 'constituent', 'TEST'), ('De leerlingen verpletteren of de jongens telefoneren ', 'De leerlingen verpletteren ', 'NEUTRAL', 'constituent', 'TRAIL'), ('De jongens leren of de motorrijders trekken ', 'De jongens leren ', 'NEUTRAL', 'constituent', 'TEST'), ('De spelers vangen of de mimespelers knuffelen ', 'De mimespelers knuffelen ', 'NEUTRAL', 'constituent', 'TEST'), ('De soldaten knuffelen of de jongvolwassenen voeren ', 'De soldaten knuffelen ', 'NEUTRAL', 'constituent', 'TEST'), ('De studenten knuffelen of de dochters voeren ', 'De studenten knuffelen ', 'NEUTRAL', 'constituent', 'TEST'), (\"De boa's knuffelen of de fotografen duelleren \", 'De fotografen duelleren ', 'NEUTRAL', 'constituent', 'TEST'), ('Als de soldaten de fietsers knuffelen , studeren de mimespelers ', 'De mimespelers studeren ', 'NEUTRAL', 'constituent', 'TRAIL'), (\"Als de dochters de boa's verlaten , gooien de soldaten \", 'De soldaten gooien ', 'NEUTRAL', 'constituent', 'TEST'), ('Als de vrouwen de motorrijders telefoneren , trekken de fotografen ', 'De fotografen trekken ', 'NEUTRAL', 'constituent', 'TEST'), ('Als de mannen de spelers knuffelen , schoppen de leerlingen ', 'De leerlingen schoppen ', 'NEUTRAL', 'constituent', 'TRAIL'), ('Als de motorrijders de studenten zagen , trouwen de soldaten ', 'De soldaten trouwen ', 'NEUTRAL', 'constituent', 'TEST'), (\"Als de fotografen de motorrijders vangen , snuffelen de boa's \", \"De boa's snuffelen \", 'NEUTRAL', 'constituent', 'TEST'), ('Als de motorrijders de dochters borstelen , breken de hardlopers ', 'De hardlopers breken ', 'NEUTRAL', 'constituent', 'TEST'), ('Als de fotografen de mimespelers verlaten , ontwijken de studenten ', 'De studenten ontwijken ', 'NEUTRAL', 'constituent', 'TRAIL'), ('Als de mimespelers de fotografen ontwijken , dragen de spelers ', 'De spelers dragen ', 'NEUTRAL', 'constituent', 'TEST'), ('Als de mimespelers de soldaten tekenen , redden de leerlingen ', 'De leerlingen redden ', 'NEUTRAL', 'constituent', 'TRAIL'), ('Als de spelers de mannen studeren , trekken de klimmers ', 'De klimmers trekken ', 'NEUTRAL', 'constituent', 'TEST'), ('Als de hardlopers de studenten schoppen , tekenen de fietsers ', 'De fietsers tekenen ', 'NEUTRAL', 'constituent', 'TEST'), ('Als de mannen de soldaten voeren , leren de jongens ', 'De jongens leren ', 'NEUTRAL', 'constituent', 'TEST'), ('Als de vrouwen de mimespelers telefoneren , gooien de jongens ', 'De jongens gooien ', 'NEUTRAL', 'constituent', 'TEST'), ('Als de dochters de mannen studeren , schoppen de fotografen ', 'De fotografen schoppen ', 'NEUTRAL', 'constituent', 'TEST'), (\"Als de soldaten de boa's telefoneren , redden de jongvolwassenen \", 'De jongvolwassenen redden ', 'NEUTRAL', 'constituent', 'TRAIN'), ('Als de mimespelers de vrouwen trouwen , zagen de leerlingen ', 'De leerlingen zagen ', 'NEUTRAL', 'constituent', 'TRAIL'), ('Als de jongvolwassenen de hardlopers worstelen , breken de fietsers ', 'De fietsers breken ', 'NEUTRAL', 'constituent', 'TRAIL'), ('Als de leerlingen de fietsers telefoneren , voeren de hardlopers ', 'De hardlopers voeren ', 'NEUTRAL', 'constituent', 'TEST'), ('Als de motorrijders de leerlingen redden , gooien de hardlopers ', 'De hardlopers gooien ', 'NEUTRAL', 'constituent', 'TEST'), (\"Als de soldaten de dochters borstelen , redden de boa's \", \"De boa's redden \", 'NEUTRAL', 'constituent', 'TEST'), ('Als de vrouwen de dochters vangen , verpletteren de mannen ', 'De mannen verpletteren ', 'NEUTRAL', 'constituent', 'TEST'), ('Als de dochters de leerlingen schoppen , ontwijken de motorrijders ', 'De motorrijders ontwijken ', 'NEUTRAL', 'constituent', 'TEST'), (\"Als de mimespelers de jongens verpletteren , snuffelen de boa's \", \"De boa's snuffelen \", 'NEUTRAL', 'constituent', 'TEST'), ('Als de jongvolwassenen de fotografen schoppen , worstelen de leerlingen ', 'De leerlingen worstelen ', 'NEUTRAL', 'constituent', 'TEST'), ('Als de fotografen de soldaten gooien , redden de jongvolwassenen ', 'De jongvolwassenen redden ', 'NEUTRAL', 'constituent', 'TEST'), (\"Als de boa's de fotografen gooien , ontwijken de motorrijders \", 'De motorrijders ontwijken ', 'NEUTRAL', 'constituent', 'TEST'), (\"Als de boa's de spelers zagen , trekken de mimespelers \", 'De mimespelers trekken ', 'NEUTRAL', 'constituent', 'TEST'), (\"Als de boa's de vrouwen redden , borstelen de fotografen \", 'De fotografen borstelen ', 'NEUTRAL', 'constituent', 'TRAIL'), ('Als de soldaten de jongvolwassenen schoppen , tekenen de dochters ', 'De dochters tekenen ', 'NEUTRAL', 'constituent', 'TEST'), ('Als de leerlingen de studenten trekken , schoppen de mannen ', 'De mannen schoppen ', 'NEUTRAL', 'constituent', 'TEST'), (\"Als de jongens de studenten dragen , vangen de boa's \", \"De boa's vangen \", 'NEUTRAL', 'constituent', 'TEST'), ('Als de vrouwen de jongens trouwen , telefoneren de fotografen ', 'De fotografen telefoneren ', 'NEUTRAL', 'constituent', 'TRAIN'), ('Als de spelers de klimmers snuffelen , knuffelen de mimespelers ', 'De mimespelers knuffelen ', 'NEUTRAL', 'constituent', 'TRAIL'), ('Als de fietsers de leerlingen ontwijken , schoppen de klimmers ', 'De klimmers schoppen ', 'NEUTRAL', 'constituent', 'TEST'), ('Als de leerlingen de mimespelers snuffelen , breken de spelers ', 'De spelers breken ', 'NEUTRAL', 'constituent', 'TEST'), ('Als de motorrijders de vrouwen snuffelen , breken de fietsers ', 'De fietsers breken ', 'NEUTRAL', 'constituent', 'TEST'), (\"Als de fietsers de hardlopers trekken , tekenen de boa's \", \"De boa's tekenen \", 'NEUTRAL', 'constituent', 'TEST'), ('Als de klimmers de spelers zagen , worstelen de studenten ', 'De studenten worstelen ', 'NEUTRAL', 'constituent', 'TEST'), ('Als de soldaten de fietsers vangen , trouwen de dochters ', 'De dochters trouwen ', 'NEUTRAL', 'constituent', 'TEST'), ('Als de jongens de hardlopers gooien , borstelen de studenten ', 'De studenten borstelen ', 'NEUTRAL', 'constituent', 'TEST'), ('Als de mannen de dochters tekenen , telefoneren de soldaten ', 'De soldaten telefoneren ', 'NEUTRAL', 'constituent', 'TEST'), ('Als de hardlopers de klimmers zagen , knuffelen de leerlingen ', 'De leerlingen knuffelen ', 'NEUTRAL', 'constituent', 'TEST'), ('Als de soldaten de hardlopers studeren , vangen de fietsers ', 'De fietsers vangen ', 'NEUTRAL', 'constituent', 'TRAIL'), ('Als de jongens de hardlopers breken , worstelen de klimmers ', 'De klimmers worstelen ', 'NEUTRAL', 'constituent', 'TRAIL'), ('Als de fotografen de hardlopers studeren , zagen de motorrijders ', 'De motorrijders zagen ', 'NEUTRAL', 'constituent', 'TEST'), ('Als de jongens de spelers studeren , verlaten de studenten ', 'De studenten verlaten ', 'NEUTRAL', 'constituent', 'TEST'), ('Als de jongvolwassenen de leerlingen trouwen , knuffelen de jongens ', 'De jongens knuffelen ', 'NEUTRAL', 'constituent', 'TEST'), (\"Als de studenten de boa's telefoneren , studeren de leerlingen \", 'De leerlingen studeren ', 'NEUTRAL', 'constituent', 'TEST'), ('Als de vrouwen de fietsers zagen , verpletteren de spelers ', 'De spelers verpletteren ', 'NEUTRAL', 'constituent', 'TEST'), ('Als de fietsers de klimmers worstelen , schoppen de spelers ', 'De spelers schoppen ', 'NEUTRAL', 'constituent', 'TEST'), ('Als de fietsers de vrouwen dragen , schoppen de fotografen ', 'De fotografen schoppen ', 'NEUTRAL', 'constituent', 'TEST'), ('Als de klimmers de hardlopers dragen , redden de jongens ', 'De jongens redden ', 'NEUTRAL', 'constituent', 'TEST'), ('Als de leerlingen de fotografen duelleren , trekken de vrouwen ', 'De vrouwen trekken ', 'NEUTRAL', 'constituent', 'TEST'), ('Als de klimmers de fotografen telefoneren , duelleren de leerlingen ', 'De leerlingen duelleren ', 'NEUTRAL', 'constituent', 'TEST'), (\"Als de boa's de dochters zagen , borstelen de mimespelers \", 'De mimespelers borstelen ', 'NEUTRAL', 'constituent', 'TRAIL'), ('Als de fotografen de spelers knuffelen , zagen de motorrijders ', 'De motorrijders zagen ', 'NEUTRAL', 'constituent', 'TRAIN'), ('Als de jongvolwassenen de hardlopers breken , studeren de motorrijders ', 'De motorrijders studeren ', 'NEUTRAL', 'constituent', 'TEST'), ('Als de jongvolwassenen de jongens knuffelen , schoppen de dochters ', 'De dochters schoppen ', 'NEUTRAL', 'constituent', 'TEST'), ('Als de spelers de mannen studeren , ontwijken de leerlingen ', 'De leerlingen ontwijken ', 'NEUTRAL', 'constituent', 'TRAIN'), ('Als de vrouwen de dochters knuffelen , telefoneren de leerlingen ', 'De leerlingen telefoneren ', 'NEUTRAL', 'constituent', 'TEST'), (\"Als de leerlingen de boa's knuffelen , redden de hardlopers \", 'De hardlopers redden ', 'NEUTRAL', 'constituent', 'TEST'), ('Als de mimespelers de motorrijders verpletteren , leren de studenten ', 'De studenten leren ', 'NEUTRAL', 'constituent', 'TEST'), ('Als de hardlopers de leerlingen duelleren , breken de jongvolwassenen ', 'De jongvolwassenen breken ', 'NEUTRAL', 'constituent', 'TRAIL'), ('Als de klimmers de fietsers duelleren , worstelen de hardlopers ', 'De hardlopers worstelen ', 'NEUTRAL', 'constituent', 'TRAIL'), ('Als de spelers de jongens studeren , dragen de motorrijders ', 'De motorrijders dragen ', 'NEUTRAL', 'constituent', 'TEST'), ('Als de mannen de mimespelers duelleren , trouwen de fotografen ', 'De fotografen trouwen ', 'NEUTRAL', 'constituent', 'TEST'), ('Als de jongvolwassenen de klimmers leren , schoppen de spelers ', 'De spelers schoppen ', 'NEUTRAL', 'constituent', 'TEST'), ('Als de fotografen de mimespelers breken , schoppen de studenten ', 'De studenten schoppen ', 'NEUTRAL', 'constituent', 'TEST'), (\"Als de klimmers de fotografen verlaten , dragen de boa's \", \"De boa's dragen \", 'NEUTRAL', 'constituent', 'TEST'), ('Als de klimmers de vrouwen gooien , trekken de fietsers ', 'De fietsers trekken ', 'NEUTRAL', 'constituent', 'TEST'), ('Als de hardlopers de fotografen dragen , schoppen de jongens ', 'De jongens schoppen ', 'NEUTRAL', 'constituent', 'TEST'), ('Als de klimmers de hardlopers leren , trouwen de fotografen ', 'De fotografen trouwen ', 'NEUTRAL', 'constituent', 'TEST'), ('Als de jongvolwassenen de spelers schoppen , trekken de vrouwen ', 'De vrouwen trekken ', 'NEUTRAL', 'constituent', 'TRAIL'), ('Als de motorrijders de leerlingen redden , breken de klimmers ', 'De klimmers breken ', 'NEUTRAL', 'constituent', 'TEST'), ('Als de dochters de hardlopers trekken , knuffelen de klimmers ', 'De klimmers knuffelen ', 'NEUTRAL', 'constituent', 'TEST'), ('Als de motorrijders de hardlopers gooien , redden de spelers ', 'De spelers redden ', 'NEUTRAL', 'constituent', 'TEST'), ('Als de mannen de fotografen telefoneren , vangen de jongens ', 'De jongens vangen ', 'NEUTRAL', 'constituent', 'TEST'), ('Als de fietsers de jongvolwassenen voeren , vangen de fotografen ', 'De fotografen vangen ', 'NEUTRAL', 'constituent', 'TEST'), ('Als de fietsers de mannen tekenen , snuffelen de dochters ', 'De dochters snuffelen ', 'NEUTRAL', 'constituent', 'TEST'), ('Als de spelers de soldaten borstelen , worstelen de dochters ', 'De dochters worstelen ', 'NEUTRAL', 'constituent', 'TEST'), ('Als de vrouwen de fotografen voeren , redden de studenten ', 'De studenten redden ', 'NEUTRAL', 'constituent', 'TEST'), ('Als de vrouwen de leerlingen schoppen , tekenen de fietsers ', 'De fietsers tekenen ', 'NEUTRAL', 'constituent', 'TEST'), ('Als de vrouwen de mimespelers dragen , verlaten de motorrijders ', 'De motorrijders verlaten ', 'NEUTRAL', 'constituent', 'TEST'), ('Als de jongens de mimespelers gooien , telefoneren de soldaten ', 'De soldaten telefoneren ', 'NEUTRAL', 'constituent', 'TEST'), ('Als de studenten de jongvolwassenen worstelen , trekken de leerlingen ', 'De leerlingen trekken ', 'NEUTRAL', 'constituent', 'TEST'), ('Als de mannen de klimmers zagen , telefoneren de dochters ', 'De dochters telefoneren ', 'NEUTRAL', 'constituent', 'TEST'), ('Als de studenten de motorrijders verlaten , snuffelen de soldaten ', 'De soldaten snuffelen ', 'NEUTRAL', 'constituent', 'TEST'), (\"Als de boa's de studenten breken , borstelen de spelers \", 'De spelers borstelen ', 'NEUTRAL', 'constituent', 'TEST'), ('Als de jongvolwassenen de dochters vangen , zagen de vrouwen ', 'De vrouwen zagen ', 'NEUTRAL', 'constituent', 'TEST'), ('Als de dochters de mannen breken , worstelen de hardlopers ', 'De hardlopers worstelen ', 'NEUTRAL', 'constituent', 'TEST'), ('Als de soldaten de klimmers leren , tekenen de hardlopers ', 'De hardlopers tekenen ', 'NEUTRAL', 'constituent', 'TEST'), ('Als de mimespelers de fietsers leren , zagen de dochters ', 'De dochters zagen ', 'NEUTRAL', 'constituent', 'TRAIN'), ('Als de fotografen de klimmers gooien , telefoneren de studenten ', 'De studenten telefoneren ', 'NEUTRAL', 'constituent', 'TEST'), ('Als de jongvolwassenen de fietsers leren , voeren de klimmers ', 'De klimmers voeren ', 'NEUTRAL', 'constituent', 'TRAIL'), ('Als de vrouwen de mannen voeren , verpletteren de jongvolwassenen ', 'De jongvolwassenen verpletteren ', 'NEUTRAL', 'constituent', 'TRAIL'), ('Als de motorrijders de mimespelers worstelen , trouwen de klimmers ', 'De klimmers trouwen ', 'NEUTRAL', 'constituent', 'TEST'), (\"Als de mannen de jongvolwassenen redden , leren de boa's \", \"De boa's leren \", 'NEUTRAL', 'constituent', 'TEST'), (\"Als de boa's de klimmers knuffelen , snuffelen de jongvolwassenen \", 'De jongvolwassenen snuffelen ', 'NEUTRAL', 'constituent', 'TEST'), ('Als de leerlingen de dochters snuffelen , trouwen de mimespelers ', 'De mimespelers trouwen ', 'NEUTRAL', 'constituent', 'TEST')]\n",
            "[('Als de fietsers schoppen , dragen de mimespelers ', 'De fietsers schoppen ', 'NEUTRAL', 'constituent'), ('Als de fietsers redden , voeren de spelers ', 'De fietsers redden ', 'NEUTRAL', 'constituent'), ('Als de fietsers zagen , vangen de mimespelers ', 'De fietsers zagen ', 'NEUTRAL', 'constituent'), ('Als de fietsers tekenen , knuffelen de studenten ', 'De fietsers tekenen ', 'NEUTRAL', 'constituent'), ('Als de fietsers dragen , leren de studenten ', 'De fietsers dragen ', 'NEUTRAL', 'constituent'), ('Als de mannen verpletteren , breken de jongens ', 'De mannen verpletteren ', 'NEUTRAL', 'constituent'), (\"Als de motorrijders voeren , dragen de boa's \", 'De motorrijders voeren ', 'NEUTRAL', 'constituent'), (\"Als de boa's leren , telefoneren de jongvolwassenen \", \"De boa's leren \", 'NEUTRAL', 'constituent'), ('Als de vrouwen voeren , zagen de leerlingen ', 'De vrouwen voeren ', 'NEUTRAL', 'constituent'), ('Als de motorrijders redden , leren de leerlingen ', 'De motorrijders redden ', 'NEUTRAL', 'constituent'), ('Als de leerlingen snuffelen , leren de hardlopers ', 'De leerlingen snuffelen ', 'NEUTRAL', 'constituent'), ('Als de studenten worstelen , snuffelen de dochters ', 'De studenten worstelen ', 'NEUTRAL', 'constituent'), ('Als de klimmers trekken , duelleren de fietsers ', 'De klimmers trekken ', 'NEUTRAL', 'constituent'), ('De jongens vangen of de mimespelers worstelen ', 'De jongens vangen ', 'NEUTRAL', 'constituent'), ('De fietsers borstelen of de klimmers gooien ', 'De klimmers gooien ', 'NEUTRAL', 'constituent'), ('De dochters schoppen of de vrouwen zagen ', 'De vrouwen zagen ', 'NEUTRAL', 'constituent'), ('De motorrijders vangen of de jongvolwassenen trouwen ', 'De motorrijders vangen ', 'NEUTRAL', 'constituent'), ('De mannen verlaten of de dochters vangen ', 'De dochters vangen ', 'NEUTRAL', 'constituent'), (\"Als de soldaten de boa's telefoneren , redden de jongvolwassenen \", 'De jongvolwassenen redden ', 'NEUTRAL', 'constituent'), ('Als de vrouwen de jongens trouwen , telefoneren de fotografen ', 'De fotografen telefoneren ', 'NEUTRAL', 'constituent'), ('Als de fotografen de spelers knuffelen , zagen de motorrijders ', 'De motorrijders zagen ', 'NEUTRAL', 'constituent'), ('Als de spelers de mannen studeren , ontwijken de leerlingen ', 'De leerlingen ontwijken ', 'NEUTRAL', 'constituent'), ('Als de mimespelers de fietsers leren , zagen de dochters ', 'De dochters zagen ', 'NEUTRAL', 'constituent')]\n",
            "<class '__main__.SICK'>\n"
          ],
          "name": "stdout"
        }
      ]
    },
    {
      "cell_type": "code",
      "metadata": {
        "colab": {
          "base_uri": "https://localhost:8080/"
        },
        "id": "4JyrHV_aNmT6",
        "outputId": "b547e268-6247-4785-87bf-050bad7b23c4"
      },
      "source": [
        "print(f\"{models_folder}\\n{results_folder}\\n{bert}\\n{bert_nl}\\n{roberta}\\n{roberta_nl}\\n{mbert}\")"
      ],
      "execution_count": null,
      "outputs": [
        {
          "output_type": "stream",
          "text": [
            "sick_nl/model_data/models\n",
            "sick_nl/model_data/results\n",
            "bert-base-cased\n",
            "wietsedv/bert-base-dutch-cased\n",
            "roberta-base\n",
            "pdelobelle/robbert-v2-dutch-base\n",
            "bert-base-multilingual-cased\n"
          ],
          "name": "stdout"
        }
      ]
    },
    {
      "cell_type": "code",
      "metadata": {
        "colab": {
          "base_uri": "https://localhost:8080/"
        },
        "id": "n2yq6Qg3NmWI",
        "outputId": "6b19393f-7ec1-4599-a5c0-fd325a84d39d"
      },
      "source": [
        "nl_sick"
      ],
      "execution_count": null,
      "outputs": [
        {
          "output_type": "execute_result",
          "data": {
            "text/plain": [
              "<sick_nl.code.loaders.sick.SICK at 0x7f1a5a50d410>"
            ]
          },
          "metadata": {
            "tags": []
          },
          "execution_count": 16
        }
      ]
    },
    {
      "cell_type": "code",
      "metadata": {
        "id": "f7C84UCIN0tq",
        "colab": {
          "base_uri": "https://localhost:8080/",
          "height": 354
        },
        "outputId": "0b071801-ff31-45fb-e010-faa1fee6726e"
      },
      "source": [
        "run_finetuner(nl_sick, bert_nl, setting='bert', num_epochs=20, model_folder=models_folder, result_folder=results_folder)\n",
        "run_finetuner(nl_sick, roberta_nl, setting='roberta', num_epochs=20, model_folder=models_folder, result_folder=results_folder)\n",
        "run_finetuner(nl_sick, mbert, setting='bert', num_epochs=20, model_folder=models_folder, result_folder=results_folder)"
      ],
      "execution_count": null,
      "outputs": [
        {
          "output_type": "stream",
          "text": [
            "Loading BERT model...\n"
          ],
          "name": "stdout"
        },
        {
          "output_type": "error",
          "ename": "KeyboardInterrupt",
          "evalue": "ignored",
          "traceback": [
            "\u001b[0;31m---------------------------------------------------------------------------\u001b[0m",
            "\u001b[0;31mKeyboardInterrupt\u001b[0m                         Traceback (most recent call last)",
            "\u001b[0;32m<ipython-input-17-351637fcab04>\u001b[0m in \u001b[0;36m<module>\u001b[0;34m()\u001b[0m\n\u001b[1;32m      1\u001b[0m \u001b[0;31m#run_finetuner(nl_sick, bert_nl, setting='bert', num_epochs=1, model_folder=models_folder, result_folder=results_folder)\u001b[0m\u001b[0;34m\u001b[0m\u001b[0;34m\u001b[0m\u001b[0;34m\u001b[0m\u001b[0m\n\u001b[1;32m      2\u001b[0m \u001b[0;31m#run_finetuner(nl_sick, roberta_nl, setting='roberta', num_epochs=1, model_folder=models_folder, result_folder=results_folder)\u001b[0m\u001b[0;34m\u001b[0m\u001b[0;34m\u001b[0m\u001b[0;34m\u001b[0m\u001b[0m\n\u001b[0;32m----> 3\u001b[0;31m \u001b[0mrun_finetuner\u001b[0m\u001b[0;34m(\u001b[0m\u001b[0mnl_sick\u001b[0m\u001b[0;34m,\u001b[0m \u001b[0mmbert\u001b[0m\u001b[0;34m,\u001b[0m \u001b[0msetting\u001b[0m\u001b[0;34m=\u001b[0m\u001b[0;34m'bert'\u001b[0m\u001b[0;34m,\u001b[0m \u001b[0mnum_epochs\u001b[0m\u001b[0;34m=\u001b[0m\u001b[0;36m5\u001b[0m\u001b[0;34m,\u001b[0m \u001b[0mmodel_folder\u001b[0m\u001b[0;34m=\u001b[0m\u001b[0mmodels_folder\u001b[0m\u001b[0;34m,\u001b[0m \u001b[0mresult_folder\u001b[0m\u001b[0;34m=\u001b[0m\u001b[0mresults_folder\u001b[0m\u001b[0;34m)\u001b[0m\u001b[0;34m\u001b[0m\u001b[0;34m\u001b[0m\u001b[0m\n\u001b[0m",
            "\u001b[0;32m/content/gdrive/MyDrive/sick_nl_working/sick_nl/code/evaluation/eval_nli.py\u001b[0m in \u001b[0;36mrun_finetuner\u001b[0;34m(sick_dataset, name, setting, num_epochs, model_folder, result_folder)\u001b[0m\n\u001b[1;32m     71\u001b[0m def run_finetuner(sick_dataset, name, setting='bert', num_epochs=3,\n\u001b[1;32m     72\u001b[0m                   model_folder='models', result_folder='results'):\n\u001b[0;32m---> 73\u001b[0;31m     \u001b[0mtuner\u001b[0m \u001b[0;34m=\u001b[0m \u001b[0mload_bert_nli_model\u001b[0m\u001b[0;34m(\u001b[0m\u001b[0msick_dataset\u001b[0m\u001b[0;34m,\u001b[0m \u001b[0mname\u001b[0m\u001b[0;34m,\u001b[0m \u001b[0msetting\u001b[0m\u001b[0;34m)\u001b[0m\u001b[0;34m\u001b[0m\u001b[0;34m\u001b[0m\u001b[0m\n\u001b[0m\u001b[1;32m     74\u001b[0m     \u001b[0meval_results\u001b[0m \u001b[0;34m=\u001b[0m \u001b[0;34m[\u001b[0m\u001b[0;34m]\u001b[0m\u001b[0;34m\u001b[0m\u001b[0;34m\u001b[0m\u001b[0m\n\u001b[1;32m     75\u001b[0m     \u001b[0mtrain_results\u001b[0m \u001b[0;34m=\u001b[0m \u001b[0;34m[\u001b[0m\u001b[0;34m]\u001b[0m\u001b[0;34m\u001b[0m\u001b[0;34m\u001b[0m\u001b[0m\n",
            "\u001b[0;32m/content/gdrive/MyDrive/sick_nl_working/sick_nl/code/loaders/nli_models.py\u001b[0m in \u001b[0;36mload_bert_nli_model\u001b[0;34m(sick_dataset, name, setting)\u001b[0m\n\u001b[1;32m      9\u001b[0m     \u001b[0;32mif\u001b[0m \u001b[0msetting\u001b[0m \u001b[0;34m==\u001b[0m \u001b[0;34m'bert'\u001b[0m\u001b[0;34m:\u001b[0m\u001b[0;34m\u001b[0m\u001b[0;34m\u001b[0m\u001b[0m\n\u001b[1;32m     10\u001b[0m         \u001b[0mtokenizer\u001b[0m \u001b[0;34m=\u001b[0m \u001b[0mBertTokenizer\u001b[0m\u001b[0;34m.\u001b[0m\u001b[0mfrom_pretrained\u001b[0m\u001b[0;34m(\u001b[0m\u001b[0mname\u001b[0m\u001b[0;34m)\u001b[0m\u001b[0;34m\u001b[0m\u001b[0;34m\u001b[0m\u001b[0m\n\u001b[0;32m---> 11\u001b[0;31m         \u001b[0mmodel\u001b[0m \u001b[0;34m=\u001b[0m \u001b[0mBertForSequenceClassification\u001b[0m\u001b[0;34m.\u001b[0m\u001b[0mfrom_pretrained\u001b[0m\u001b[0;34m(\u001b[0m\u001b[0mname\u001b[0m\u001b[0;34m,\u001b[0m \u001b[0mnum_labels\u001b[0m\u001b[0;34m=\u001b[0m\u001b[0;36m3\u001b[0m\u001b[0;34m)\u001b[0m\u001b[0;34m\u001b[0m\u001b[0;34m\u001b[0m\u001b[0m\n\u001b[0m\u001b[1;32m     12\u001b[0m     \u001b[0;32melif\u001b[0m \u001b[0msetting\u001b[0m \u001b[0;34m==\u001b[0m \u001b[0;34m'roberta'\u001b[0m\u001b[0;34m:\u001b[0m\u001b[0;34m\u001b[0m\u001b[0;34m\u001b[0m\u001b[0m\n\u001b[1;32m     13\u001b[0m         \u001b[0mtokenizer\u001b[0m \u001b[0;34m=\u001b[0m \u001b[0mRobertaTokenizer\u001b[0m\u001b[0;34m.\u001b[0m\u001b[0mfrom_pretrained\u001b[0m\u001b[0;34m(\u001b[0m\u001b[0mname\u001b[0m\u001b[0;34m)\u001b[0m\u001b[0;34m\u001b[0m\u001b[0;34m\u001b[0m\u001b[0m\n",
            "\u001b[0;32m/usr/local/lib/python3.7/dist-packages/transformers/modeling_utils.py\u001b[0m in \u001b[0;36mfrom_pretrained\u001b[0;34m(cls, pretrained_model_name_or_path, *model_args, **kwargs)\u001b[0m\n\u001b[1;32m   1145\u001b[0m                     \u001b[0mlocal_files_only\u001b[0m\u001b[0;34m=\u001b[0m\u001b[0mlocal_files_only\u001b[0m\u001b[0;34m,\u001b[0m\u001b[0;34m\u001b[0m\u001b[0;34m\u001b[0m\u001b[0m\n\u001b[1;32m   1146\u001b[0m                     \u001b[0muse_auth_token\u001b[0m\u001b[0;34m=\u001b[0m\u001b[0muse_auth_token\u001b[0m\u001b[0;34m,\u001b[0m\u001b[0;34m\u001b[0m\u001b[0;34m\u001b[0m\u001b[0m\n\u001b[0;32m-> 1147\u001b[0;31m                     \u001b[0muser_agent\u001b[0m\u001b[0;34m=\u001b[0m\u001b[0muser_agent\u001b[0m\u001b[0;34m,\u001b[0m\u001b[0;34m\u001b[0m\u001b[0;34m\u001b[0m\u001b[0m\n\u001b[0m\u001b[1;32m   1148\u001b[0m                 )\n\u001b[1;32m   1149\u001b[0m             \u001b[0;32mexcept\u001b[0m \u001b[0mEnvironmentError\u001b[0m \u001b[0;32mas\u001b[0m \u001b[0merr\u001b[0m\u001b[0;34m:\u001b[0m\u001b[0;34m\u001b[0m\u001b[0;34m\u001b[0m\u001b[0m\n",
            "\u001b[0;32m/usr/local/lib/python3.7/dist-packages/transformers/file_utils.py\u001b[0m in \u001b[0;36mcached_path\u001b[0;34m(url_or_filename, cache_dir, force_download, proxies, resume_download, user_agent, extract_compressed_file, force_extract, use_auth_token, local_files_only)\u001b[0m\n\u001b[1;32m   1335\u001b[0m             \u001b[0muser_agent\u001b[0m\u001b[0;34m=\u001b[0m\u001b[0muser_agent\u001b[0m\u001b[0;34m,\u001b[0m\u001b[0;34m\u001b[0m\u001b[0;34m\u001b[0m\u001b[0m\n\u001b[1;32m   1336\u001b[0m             \u001b[0muse_auth_token\u001b[0m\u001b[0;34m=\u001b[0m\u001b[0muse_auth_token\u001b[0m\u001b[0;34m,\u001b[0m\u001b[0;34m\u001b[0m\u001b[0;34m\u001b[0m\u001b[0m\n\u001b[0;32m-> 1337\u001b[0;31m             \u001b[0mlocal_files_only\u001b[0m\u001b[0;34m=\u001b[0m\u001b[0mlocal_files_only\u001b[0m\u001b[0;34m,\u001b[0m\u001b[0;34m\u001b[0m\u001b[0;34m\u001b[0m\u001b[0m\n\u001b[0m\u001b[1;32m   1338\u001b[0m         )\n\u001b[1;32m   1339\u001b[0m     \u001b[0;32melif\u001b[0m \u001b[0mos\u001b[0m\u001b[0;34m.\u001b[0m\u001b[0mpath\u001b[0m\u001b[0;34m.\u001b[0m\u001b[0mexists\u001b[0m\u001b[0;34m(\u001b[0m\u001b[0murl_or_filename\u001b[0m\u001b[0;34m)\u001b[0m\u001b[0;34m:\u001b[0m\u001b[0;34m\u001b[0m\u001b[0;34m\u001b[0m\u001b[0m\n",
            "\u001b[0;32m/usr/local/lib/python3.7/dist-packages/transformers/file_utils.py\u001b[0m in \u001b[0;36mget_from_cache\u001b[0;34m(url, cache_dir, force_download, proxies, etag_timeout, resume_download, user_agent, use_auth_token, local_files_only)\u001b[0m\n\u001b[1;32m   1497\u001b[0m     \u001b[0;32mif\u001b[0m \u001b[0;32mnot\u001b[0m \u001b[0mlocal_files_only\u001b[0m\u001b[0;34m:\u001b[0m\u001b[0;34m\u001b[0m\u001b[0;34m\u001b[0m\u001b[0m\n\u001b[1;32m   1498\u001b[0m         \u001b[0;32mtry\u001b[0m\u001b[0;34m:\u001b[0m\u001b[0;34m\u001b[0m\u001b[0;34m\u001b[0m\u001b[0m\n\u001b[0;32m-> 1499\u001b[0;31m             \u001b[0mr\u001b[0m \u001b[0;34m=\u001b[0m \u001b[0mrequests\u001b[0m\u001b[0;34m.\u001b[0m\u001b[0mhead\u001b[0m\u001b[0;34m(\u001b[0m\u001b[0murl\u001b[0m\u001b[0;34m,\u001b[0m \u001b[0mheaders\u001b[0m\u001b[0;34m=\u001b[0m\u001b[0mheaders\u001b[0m\u001b[0;34m,\u001b[0m \u001b[0mallow_redirects\u001b[0m\u001b[0;34m=\u001b[0m\u001b[0;32mFalse\u001b[0m\u001b[0;34m,\u001b[0m \u001b[0mproxies\u001b[0m\u001b[0;34m=\u001b[0m\u001b[0mproxies\u001b[0m\u001b[0;34m,\u001b[0m \u001b[0mtimeout\u001b[0m\u001b[0;34m=\u001b[0m\u001b[0metag_timeout\u001b[0m\u001b[0;34m)\u001b[0m\u001b[0;34m\u001b[0m\u001b[0;34m\u001b[0m\u001b[0m\n\u001b[0m\u001b[1;32m   1500\u001b[0m             \u001b[0mr\u001b[0m\u001b[0;34m.\u001b[0m\u001b[0mraise_for_status\u001b[0m\u001b[0;34m(\u001b[0m\u001b[0;34m)\u001b[0m\u001b[0;34m\u001b[0m\u001b[0;34m\u001b[0m\u001b[0m\n\u001b[1;32m   1501\u001b[0m             \u001b[0metag\u001b[0m \u001b[0;34m=\u001b[0m \u001b[0mr\u001b[0m\u001b[0;34m.\u001b[0m\u001b[0mheaders\u001b[0m\u001b[0;34m.\u001b[0m\u001b[0mget\u001b[0m\u001b[0;34m(\u001b[0m\u001b[0;34m\"X-Linked-Etag\"\u001b[0m\u001b[0;34m)\u001b[0m \u001b[0;32mor\u001b[0m \u001b[0mr\u001b[0m\u001b[0;34m.\u001b[0m\u001b[0mheaders\u001b[0m\u001b[0;34m.\u001b[0m\u001b[0mget\u001b[0m\u001b[0;34m(\u001b[0m\u001b[0;34m\"ETag\"\u001b[0m\u001b[0;34m)\u001b[0m\u001b[0;34m\u001b[0m\u001b[0;34m\u001b[0m\u001b[0m\n",
            "\u001b[0;32m/usr/local/lib/python3.7/dist-packages/requests/api.py\u001b[0m in \u001b[0;36mhead\u001b[0;34m(url, **kwargs)\u001b[0m\n\u001b[1;32m    102\u001b[0m \u001b[0;34m\u001b[0m\u001b[0m\n\u001b[1;32m    103\u001b[0m     \u001b[0mkwargs\u001b[0m\u001b[0;34m.\u001b[0m\u001b[0msetdefault\u001b[0m\u001b[0;34m(\u001b[0m\u001b[0;34m'allow_redirects'\u001b[0m\u001b[0;34m,\u001b[0m \u001b[0;32mFalse\u001b[0m\u001b[0;34m)\u001b[0m\u001b[0;34m\u001b[0m\u001b[0;34m\u001b[0m\u001b[0m\n\u001b[0;32m--> 104\u001b[0;31m     \u001b[0;32mreturn\u001b[0m \u001b[0mrequest\u001b[0m\u001b[0;34m(\u001b[0m\u001b[0;34m'head'\u001b[0m\u001b[0;34m,\u001b[0m \u001b[0murl\u001b[0m\u001b[0;34m,\u001b[0m \u001b[0;34m**\u001b[0m\u001b[0mkwargs\u001b[0m\u001b[0;34m)\u001b[0m\u001b[0;34m\u001b[0m\u001b[0;34m\u001b[0m\u001b[0m\n\u001b[0m\u001b[1;32m    105\u001b[0m \u001b[0;34m\u001b[0m\u001b[0m\n\u001b[1;32m    106\u001b[0m \u001b[0;34m\u001b[0m\u001b[0m\n",
            "\u001b[0;32m/usr/local/lib/python3.7/dist-packages/requests/api.py\u001b[0m in \u001b[0;36mrequest\u001b[0;34m(method, url, **kwargs)\u001b[0m\n\u001b[1;32m     59\u001b[0m     \u001b[0;31m# cases, and look like a memory leak in others.\u001b[0m\u001b[0;34m\u001b[0m\u001b[0;34m\u001b[0m\u001b[0;34m\u001b[0m\u001b[0m\n\u001b[1;32m     60\u001b[0m     \u001b[0;32mwith\u001b[0m \u001b[0msessions\u001b[0m\u001b[0;34m.\u001b[0m\u001b[0mSession\u001b[0m\u001b[0;34m(\u001b[0m\u001b[0;34m)\u001b[0m \u001b[0;32mas\u001b[0m \u001b[0msession\u001b[0m\u001b[0;34m:\u001b[0m\u001b[0;34m\u001b[0m\u001b[0;34m\u001b[0m\u001b[0m\n\u001b[0;32m---> 61\u001b[0;31m         \u001b[0;32mreturn\u001b[0m \u001b[0msession\u001b[0m\u001b[0;34m.\u001b[0m\u001b[0mrequest\u001b[0m\u001b[0;34m(\u001b[0m\u001b[0mmethod\u001b[0m\u001b[0;34m=\u001b[0m\u001b[0mmethod\u001b[0m\u001b[0;34m,\u001b[0m \u001b[0murl\u001b[0m\u001b[0;34m=\u001b[0m\u001b[0murl\u001b[0m\u001b[0;34m,\u001b[0m \u001b[0;34m**\u001b[0m\u001b[0mkwargs\u001b[0m\u001b[0;34m)\u001b[0m\u001b[0;34m\u001b[0m\u001b[0;34m\u001b[0m\u001b[0m\n\u001b[0m\u001b[1;32m     62\u001b[0m \u001b[0;34m\u001b[0m\u001b[0m\n\u001b[1;32m     63\u001b[0m \u001b[0;34m\u001b[0m\u001b[0m\n",
            "\u001b[0;32m/usr/local/lib/python3.7/dist-packages/requests/sessions.py\u001b[0m in \u001b[0;36mrequest\u001b[0;34m(self, method, url, params, data, headers, cookies, files, auth, timeout, allow_redirects, proxies, hooks, stream, verify, cert, json)\u001b[0m\n\u001b[1;32m    528\u001b[0m         }\n\u001b[1;32m    529\u001b[0m         \u001b[0msend_kwargs\u001b[0m\u001b[0;34m.\u001b[0m\u001b[0mupdate\u001b[0m\u001b[0;34m(\u001b[0m\u001b[0msettings\u001b[0m\u001b[0;34m)\u001b[0m\u001b[0;34m\u001b[0m\u001b[0;34m\u001b[0m\u001b[0m\n\u001b[0;32m--> 530\u001b[0;31m         \u001b[0mresp\u001b[0m \u001b[0;34m=\u001b[0m \u001b[0mself\u001b[0m\u001b[0;34m.\u001b[0m\u001b[0msend\u001b[0m\u001b[0;34m(\u001b[0m\u001b[0mprep\u001b[0m\u001b[0;34m,\u001b[0m \u001b[0;34m**\u001b[0m\u001b[0msend_kwargs\u001b[0m\u001b[0;34m)\u001b[0m\u001b[0;34m\u001b[0m\u001b[0;34m\u001b[0m\u001b[0m\n\u001b[0m\u001b[1;32m    531\u001b[0m \u001b[0;34m\u001b[0m\u001b[0m\n\u001b[1;32m    532\u001b[0m         \u001b[0;32mreturn\u001b[0m \u001b[0mresp\u001b[0m\u001b[0;34m\u001b[0m\u001b[0;34m\u001b[0m\u001b[0m\n",
            "\u001b[0;32m/usr/local/lib/python3.7/dist-packages/requests/sessions.py\u001b[0m in \u001b[0;36msend\u001b[0;34m(self, request, **kwargs)\u001b[0m\n\u001b[1;32m    641\u001b[0m \u001b[0;34m\u001b[0m\u001b[0m\n\u001b[1;32m    642\u001b[0m         \u001b[0;31m# Send the request\u001b[0m\u001b[0;34m\u001b[0m\u001b[0;34m\u001b[0m\u001b[0;34m\u001b[0m\u001b[0m\n\u001b[0;32m--> 643\u001b[0;31m         \u001b[0mr\u001b[0m \u001b[0;34m=\u001b[0m \u001b[0madapter\u001b[0m\u001b[0;34m.\u001b[0m\u001b[0msend\u001b[0m\u001b[0;34m(\u001b[0m\u001b[0mrequest\u001b[0m\u001b[0;34m,\u001b[0m \u001b[0;34m**\u001b[0m\u001b[0mkwargs\u001b[0m\u001b[0;34m)\u001b[0m\u001b[0;34m\u001b[0m\u001b[0;34m\u001b[0m\u001b[0m\n\u001b[0m\u001b[1;32m    644\u001b[0m \u001b[0;34m\u001b[0m\u001b[0m\n\u001b[1;32m    645\u001b[0m         \u001b[0;31m# Total elapsed time of the request (approximately)\u001b[0m\u001b[0;34m\u001b[0m\u001b[0;34m\u001b[0m\u001b[0;34m\u001b[0m\u001b[0m\n",
            "\u001b[0;32m/usr/local/lib/python3.7/dist-packages/requests/adapters.py\u001b[0m in \u001b[0;36msend\u001b[0;34m(self, request, stream, timeout, verify, cert, proxies)\u001b[0m\n\u001b[1;32m    447\u001b[0m                     \u001b[0mdecode_content\u001b[0m\u001b[0;34m=\u001b[0m\u001b[0;32mFalse\u001b[0m\u001b[0;34m,\u001b[0m\u001b[0;34m\u001b[0m\u001b[0;34m\u001b[0m\u001b[0m\n\u001b[1;32m    448\u001b[0m                     \u001b[0mretries\u001b[0m\u001b[0;34m=\u001b[0m\u001b[0mself\u001b[0m\u001b[0;34m.\u001b[0m\u001b[0mmax_retries\u001b[0m\u001b[0;34m,\u001b[0m\u001b[0;34m\u001b[0m\u001b[0;34m\u001b[0m\u001b[0m\n\u001b[0;32m--> 449\u001b[0;31m                     \u001b[0mtimeout\u001b[0m\u001b[0;34m=\u001b[0m\u001b[0mtimeout\u001b[0m\u001b[0;34m\u001b[0m\u001b[0;34m\u001b[0m\u001b[0m\n\u001b[0m\u001b[1;32m    450\u001b[0m                 )\n\u001b[1;32m    451\u001b[0m \u001b[0;34m\u001b[0m\u001b[0m\n",
            "\u001b[0;32m/usr/local/lib/python3.7/dist-packages/urllib3/connectionpool.py\u001b[0m in \u001b[0;36murlopen\u001b[0;34m(self, method, url, body, headers, retries, redirect, assert_same_host, timeout, pool_timeout, release_conn, chunked, body_pos, **response_kw)\u001b[0m\n\u001b[1;32m    598\u001b[0m                                                   \u001b[0mtimeout\u001b[0m\u001b[0;34m=\u001b[0m\u001b[0mtimeout_obj\u001b[0m\u001b[0;34m,\u001b[0m\u001b[0;34m\u001b[0m\u001b[0;34m\u001b[0m\u001b[0m\n\u001b[1;32m    599\u001b[0m                                                   \u001b[0mbody\u001b[0m\u001b[0;34m=\u001b[0m\u001b[0mbody\u001b[0m\u001b[0;34m,\u001b[0m \u001b[0mheaders\u001b[0m\u001b[0;34m=\u001b[0m\u001b[0mheaders\u001b[0m\u001b[0;34m,\u001b[0m\u001b[0;34m\u001b[0m\u001b[0;34m\u001b[0m\u001b[0m\n\u001b[0;32m--> 600\u001b[0;31m                                                   chunked=chunked)\n\u001b[0m\u001b[1;32m    601\u001b[0m \u001b[0;34m\u001b[0m\u001b[0m\n\u001b[1;32m    602\u001b[0m             \u001b[0;31m# If we're going to release the connection in ``finally:``, then\u001b[0m\u001b[0;34m\u001b[0m\u001b[0;34m\u001b[0m\u001b[0;34m\u001b[0m\u001b[0m\n",
            "\u001b[0;32m/usr/local/lib/python3.7/dist-packages/urllib3/connectionpool.py\u001b[0m in \u001b[0;36m_make_request\u001b[0;34m(self, conn, method, url, timeout, chunked, **httplib_request_kw)\u001b[0m\n\u001b[1;32m    341\u001b[0m         \u001b[0;31m# Trigger any extra validation we need to do.\u001b[0m\u001b[0;34m\u001b[0m\u001b[0;34m\u001b[0m\u001b[0;34m\u001b[0m\u001b[0m\n\u001b[1;32m    342\u001b[0m         \u001b[0;32mtry\u001b[0m\u001b[0;34m:\u001b[0m\u001b[0;34m\u001b[0m\u001b[0;34m\u001b[0m\u001b[0m\n\u001b[0;32m--> 343\u001b[0;31m             \u001b[0mself\u001b[0m\u001b[0;34m.\u001b[0m\u001b[0m_validate_conn\u001b[0m\u001b[0;34m(\u001b[0m\u001b[0mconn\u001b[0m\u001b[0;34m)\u001b[0m\u001b[0;34m\u001b[0m\u001b[0;34m\u001b[0m\u001b[0m\n\u001b[0m\u001b[1;32m    344\u001b[0m         \u001b[0;32mexcept\u001b[0m \u001b[0;34m(\u001b[0m\u001b[0mSocketTimeout\u001b[0m\u001b[0;34m,\u001b[0m \u001b[0mBaseSSLError\u001b[0m\u001b[0;34m)\u001b[0m \u001b[0;32mas\u001b[0m \u001b[0me\u001b[0m\u001b[0;34m:\u001b[0m\u001b[0;34m\u001b[0m\u001b[0;34m\u001b[0m\u001b[0m\n\u001b[1;32m    345\u001b[0m             \u001b[0;31m# Py2 raises this as a BaseSSLError, Py3 raises it as socket timeout.\u001b[0m\u001b[0;34m\u001b[0m\u001b[0;34m\u001b[0m\u001b[0;34m\u001b[0m\u001b[0m\n",
            "\u001b[0;32m/usr/local/lib/python3.7/dist-packages/urllib3/connectionpool.py\u001b[0m in \u001b[0;36m_validate_conn\u001b[0;34m(self, conn)\u001b[0m\n\u001b[1;32m    837\u001b[0m         \u001b[0;31m# Force connect early to allow us to validate the connection.\u001b[0m\u001b[0;34m\u001b[0m\u001b[0;34m\u001b[0m\u001b[0;34m\u001b[0m\u001b[0m\n\u001b[1;32m    838\u001b[0m         \u001b[0;32mif\u001b[0m \u001b[0;32mnot\u001b[0m \u001b[0mgetattr\u001b[0m\u001b[0;34m(\u001b[0m\u001b[0mconn\u001b[0m\u001b[0;34m,\u001b[0m \u001b[0;34m'sock'\u001b[0m\u001b[0;34m,\u001b[0m \u001b[0;32mNone\u001b[0m\u001b[0;34m)\u001b[0m\u001b[0;34m:\u001b[0m  \u001b[0;31m# AppEngine might not have  `.sock`\u001b[0m\u001b[0;34m\u001b[0m\u001b[0;34m\u001b[0m\u001b[0m\n\u001b[0;32m--> 839\u001b[0;31m             \u001b[0mconn\u001b[0m\u001b[0;34m.\u001b[0m\u001b[0mconnect\u001b[0m\u001b[0;34m(\u001b[0m\u001b[0;34m)\u001b[0m\u001b[0;34m\u001b[0m\u001b[0;34m\u001b[0m\u001b[0m\n\u001b[0m\u001b[1;32m    840\u001b[0m \u001b[0;34m\u001b[0m\u001b[0m\n\u001b[1;32m    841\u001b[0m         \u001b[0;32mif\u001b[0m \u001b[0;32mnot\u001b[0m \u001b[0mconn\u001b[0m\u001b[0;34m.\u001b[0m\u001b[0mis_verified\u001b[0m\u001b[0;34m:\u001b[0m\u001b[0;34m\u001b[0m\u001b[0;34m\u001b[0m\u001b[0m\n",
            "\u001b[0;32m/usr/local/lib/python3.7/dist-packages/urllib3/connection.py\u001b[0m in \u001b[0;36mconnect\u001b[0;34m(self)\u001b[0m\n\u001b[1;32m    342\u001b[0m             \u001b[0mca_cert_dir\u001b[0m\u001b[0;34m=\u001b[0m\u001b[0mself\u001b[0m\u001b[0;34m.\u001b[0m\u001b[0mca_cert_dir\u001b[0m\u001b[0;34m,\u001b[0m\u001b[0;34m\u001b[0m\u001b[0;34m\u001b[0m\u001b[0m\n\u001b[1;32m    343\u001b[0m             \u001b[0mserver_hostname\u001b[0m\u001b[0;34m=\u001b[0m\u001b[0mserver_hostname\u001b[0m\u001b[0;34m,\u001b[0m\u001b[0;34m\u001b[0m\u001b[0;34m\u001b[0m\u001b[0m\n\u001b[0;32m--> 344\u001b[0;31m             ssl_context=context)\n\u001b[0m\u001b[1;32m    345\u001b[0m \u001b[0;34m\u001b[0m\u001b[0m\n\u001b[1;32m    346\u001b[0m         \u001b[0;32mif\u001b[0m \u001b[0mself\u001b[0m\u001b[0;34m.\u001b[0m\u001b[0massert_fingerprint\u001b[0m\u001b[0;34m:\u001b[0m\u001b[0;34m\u001b[0m\u001b[0;34m\u001b[0m\u001b[0m\n",
            "\u001b[0;32m/usr/local/lib/python3.7/dist-packages/urllib3/util/ssl_.py\u001b[0m in \u001b[0;36mssl_wrap_socket\u001b[0;34m(sock, keyfile, certfile, cert_reqs, ca_certs, server_hostname, ssl_version, ciphers, ssl_context, ca_cert_dir)\u001b[0m\n\u001b[1;32m    343\u001b[0m             or IS_SECURETRANSPORT):\n\u001b[1;32m    344\u001b[0m         \u001b[0;32mif\u001b[0m \u001b[0mHAS_SNI\u001b[0m \u001b[0;32mand\u001b[0m \u001b[0mserver_hostname\u001b[0m \u001b[0;32mis\u001b[0m \u001b[0;32mnot\u001b[0m \u001b[0;32mNone\u001b[0m\u001b[0;34m:\u001b[0m\u001b[0;34m\u001b[0m\u001b[0;34m\u001b[0m\u001b[0m\n\u001b[0;32m--> 345\u001b[0;31m             \u001b[0;32mreturn\u001b[0m \u001b[0mcontext\u001b[0m\u001b[0;34m.\u001b[0m\u001b[0mwrap_socket\u001b[0m\u001b[0;34m(\u001b[0m\u001b[0msock\u001b[0m\u001b[0;34m,\u001b[0m \u001b[0mserver_hostname\u001b[0m\u001b[0;34m=\u001b[0m\u001b[0mserver_hostname\u001b[0m\u001b[0;34m)\u001b[0m\u001b[0;34m\u001b[0m\u001b[0;34m\u001b[0m\u001b[0m\n\u001b[0m\u001b[1;32m    346\u001b[0m \u001b[0;34m\u001b[0m\u001b[0m\n\u001b[1;32m    347\u001b[0m         warnings.warn(\n",
            "\u001b[0;32m/usr/lib/python3.7/ssl.py\u001b[0m in \u001b[0;36mwrap_socket\u001b[0;34m(self, sock, server_side, do_handshake_on_connect, suppress_ragged_eofs, server_hostname, session)\u001b[0m\n\u001b[1;32m    421\u001b[0m             \u001b[0mserver_hostname\u001b[0m\u001b[0;34m=\u001b[0m\u001b[0mserver_hostname\u001b[0m\u001b[0;34m,\u001b[0m\u001b[0;34m\u001b[0m\u001b[0;34m\u001b[0m\u001b[0m\n\u001b[1;32m    422\u001b[0m             \u001b[0mcontext\u001b[0m\u001b[0;34m=\u001b[0m\u001b[0mself\u001b[0m\u001b[0;34m,\u001b[0m\u001b[0;34m\u001b[0m\u001b[0;34m\u001b[0m\u001b[0m\n\u001b[0;32m--> 423\u001b[0;31m             \u001b[0msession\u001b[0m\u001b[0;34m=\u001b[0m\u001b[0msession\u001b[0m\u001b[0;34m\u001b[0m\u001b[0;34m\u001b[0m\u001b[0m\n\u001b[0m\u001b[1;32m    424\u001b[0m         )\n\u001b[1;32m    425\u001b[0m \u001b[0;34m\u001b[0m\u001b[0m\n",
            "\u001b[0;32m/usr/lib/python3.7/ssl.py\u001b[0m in \u001b[0;36m_create\u001b[0;34m(cls, sock, server_side, do_handshake_on_connect, suppress_ragged_eofs, server_hostname, context, session)\u001b[0m\n\u001b[1;32m    868\u001b[0m                         \u001b[0;31m# non-blocking\u001b[0m\u001b[0;34m\u001b[0m\u001b[0;34m\u001b[0m\u001b[0;34m\u001b[0m\u001b[0m\n\u001b[1;32m    869\u001b[0m                         \u001b[0;32mraise\u001b[0m \u001b[0mValueError\u001b[0m\u001b[0;34m(\u001b[0m\u001b[0;34m\"do_handshake_on_connect should not be specified for non-blocking sockets\"\u001b[0m\u001b[0;34m)\u001b[0m\u001b[0;34m\u001b[0m\u001b[0;34m\u001b[0m\u001b[0m\n\u001b[0;32m--> 870\u001b[0;31m                     \u001b[0mself\u001b[0m\u001b[0;34m.\u001b[0m\u001b[0mdo_handshake\u001b[0m\u001b[0;34m(\u001b[0m\u001b[0;34m)\u001b[0m\u001b[0;34m\u001b[0m\u001b[0;34m\u001b[0m\u001b[0m\n\u001b[0m\u001b[1;32m    871\u001b[0m             \u001b[0;32mexcept\u001b[0m \u001b[0;34m(\u001b[0m\u001b[0mOSError\u001b[0m\u001b[0;34m,\u001b[0m \u001b[0mValueError\u001b[0m\u001b[0;34m)\u001b[0m\u001b[0;34m:\u001b[0m\u001b[0;34m\u001b[0m\u001b[0;34m\u001b[0m\u001b[0m\n\u001b[1;32m    872\u001b[0m                 \u001b[0mself\u001b[0m\u001b[0;34m.\u001b[0m\u001b[0mclose\u001b[0m\u001b[0;34m(\u001b[0m\u001b[0;34m)\u001b[0m\u001b[0;34m\u001b[0m\u001b[0;34m\u001b[0m\u001b[0m\n",
            "\u001b[0;32m/usr/lib/python3.7/ssl.py\u001b[0m in \u001b[0;36mdo_handshake\u001b[0;34m(self, block)\u001b[0m\n\u001b[1;32m   1137\u001b[0m             \u001b[0;32mif\u001b[0m \u001b[0mtimeout\u001b[0m \u001b[0;34m==\u001b[0m \u001b[0;36m0.0\u001b[0m \u001b[0;32mand\u001b[0m \u001b[0mblock\u001b[0m\u001b[0;34m:\u001b[0m\u001b[0;34m\u001b[0m\u001b[0;34m\u001b[0m\u001b[0m\n\u001b[1;32m   1138\u001b[0m                 \u001b[0mself\u001b[0m\u001b[0;34m.\u001b[0m\u001b[0msettimeout\u001b[0m\u001b[0;34m(\u001b[0m\u001b[0;32mNone\u001b[0m\u001b[0;34m)\u001b[0m\u001b[0;34m\u001b[0m\u001b[0;34m\u001b[0m\u001b[0m\n\u001b[0;32m-> 1139\u001b[0;31m             \u001b[0mself\u001b[0m\u001b[0;34m.\u001b[0m\u001b[0m_sslobj\u001b[0m\u001b[0;34m.\u001b[0m\u001b[0mdo_handshake\u001b[0m\u001b[0;34m(\u001b[0m\u001b[0;34m)\u001b[0m\u001b[0;34m\u001b[0m\u001b[0;34m\u001b[0m\u001b[0m\n\u001b[0m\u001b[1;32m   1140\u001b[0m         \u001b[0;32mfinally\u001b[0m\u001b[0;34m:\u001b[0m\u001b[0;34m\u001b[0m\u001b[0;34m\u001b[0m\u001b[0m\n\u001b[1;32m   1141\u001b[0m             \u001b[0mself\u001b[0m\u001b[0;34m.\u001b[0m\u001b[0msettimeout\u001b[0m\u001b[0;34m(\u001b[0m\u001b[0mtimeout\u001b[0m\u001b[0;34m)\u001b[0m\u001b[0;34m\u001b[0m\u001b[0;34m\u001b[0m\u001b[0m\n",
            "\u001b[0;31mKeyboardInterrupt\u001b[0m: "
          ]
        }
      ]
    },
    {
      "cell_type": "code",
      "metadata": {
        "id": "X2JwRKdBN0v7"
      },
      "source": [
        "import torch\n",
        "from sick_nl.code.loaders.nli_models import load_bert_nli_model\n",
        "from sick_nl.code.models.bert_finetune import SICK_BERT_DATASET, BERTFineTuner\n",
        "from transformers import BertTokenizer, BertForSequenceClassification\n",
        "from transformers import RobertaTokenizer, RobertaForSequenceClassification"
      ],
      "execution_count": 17,
      "outputs": []
    },
    {
      "cell_type": "code",
      "metadata": {
        "colab": {
          "base_uri": "https://localhost:8080/"
        },
        "id": "C5-oQgcDN0zY",
        "outputId": "c389c14a-4c9c-4fd2-ae23-bd7b802e73d4"
      },
      "source": [
        "! grep -R \"torch.load\" sick_nl/code"
      ],
      "execution_count": 18,
      "outputs": [
        {
          "output_type": "stream",
          "text": [
            "sick_nl/code/evaluation/eval_nli.py:    best_model = torch.load(best_model_fn)\n",
            "sick_nl/code/loaders/nli_models.py:    model = torch.load(model_fn)\n"
          ],
          "name": "stdout"
        }
      ]
    },
    {
      "cell_type": "code",
      "metadata": {
        "id": "i9QeqS7GNmYJ"
      },
      "source": [
        "class SICK(object):\n",
        "    def __init__(self, sick_fn: str):\n",
        "        self.sick_fn = sick_fn\n",
        "        self.name = \"bert\"\n",
        "        self.data = self.load_data()\n",
        "        self.train_data, self.dev_data, self.test_data = self.split_data()\n",
        "\n",
        "    def load_data(self):\n",
        "        with open(self.sick_fn, 'r') as in_file:\n",
        "            lines = [ln.strip().split('\\t') for ln in in_file.readlines()][1:]\n",
        "        sentence_data = [(s1, s2, el, rl, split)\n",
        "                         for (s1, s2, el, rl, split) in lines]\n",
        "        print(sentence_data)\n",
        "        return sentence_data\n",
        "\n",
        "    def split_data(self):\n",
        "        train_data, dev_data, test_data = [], [], []\n",
        "        for (s1, s2, el, rl, s) in self.data:\n",
        "            if s == 'TRAIN':\n",
        "                train_data.append((s1, s2, el, rl))\n",
        "            if s == 'TRIAL':\n",
        "                dev_data.append((s1, s2, el, rl))\n",
        "            if s == 'TEST':\n",
        "                test_data.append((s1, s2, el, rl))\n",
        "        return train_data, dev_data, test_data\n",
        "\n",
        "def load_sick_en():\n",
        "    return SICK(sick_fn_en)\n",
        "\n",
        "def load_sick_nl():\n",
        "    sick_fn_nl = 'sick_nl/data/tasks/sick_nl/heuristics_set.txt'\n",
        "    return SICK(sick_fn_nl)"
      ],
      "execution_count": 31,
      "outputs": []
    },
    {
      "cell_type": "code",
      "metadata": {
        "id": "ci9Mu6cdBp1R"
      },
      "source": [
        "from sick_nl.code.evaluation.eval_nli  import consolidate_results_and_models\n",
        "\n",
        "def only_evaluate(sick_dataset, model_fn, name, setting='bert'):\n",
        "    #tuner = load_bert_nli_model(sick_dataset, name, setting)\n",
        "    print(\"Loading BERT model...\")\n",
        "    if setting == 'bert':\n",
        "        tokenizer = BertTokenizer.from_pretrained(name)\n",
        "        model = torch.load(model_fn)\n",
        "    elif setting == 'roberta':\n",
        "        tokenizer = RobertaTokenizer.from_pretrained(name)\n",
        "        model = torch.load(model_fn)\n",
        "\n",
        "    print(\"Preparing datasets...\")\n",
        "    train_dataset = SICK_BERT_DATASET(sick_dataset.train_data, tokenizer)\n",
        "    eval_dataset = SICK_BERT_DATASET(sick_dataset.test_data, tokenizer)\n",
        "    print(\"Loading finetuning model...\")\n",
        "    tuner = BERTFineTuner(name, tokenizer, model, train_dataset, eval_dataset,\n",
        "                         num_epochs=1, freeze=False)\n",
        "    print(f\"Accuracy is {tuner.evaluate()}!\")\n",
        "    #consolidate_results_and_models(sick_dataset.name, name, model_folder, result_folder)"
      ],
      "execution_count": 21,
      "outputs": []
    },
    {
      "cell_type": "code",
      "metadata": {
        "colab": {
          "base_uri": "https://localhost:8080/",
          "height": 1000
        },
        "id": "jHksi3c7BsZg",
        "outputId": "4b788c25-dc0b-406b-f52f-a3acd9eb569e"
      },
      "source": [
        "fine_tuned_model = 'sick_nl/model_data/models_agg/model_SICK_NL_bert-base-dutch-cased_epoch12.pt'\n",
        "only_evaluate(nl_sick, fine_tuned_model, \"wietsedv/bert-base-dutch-cased\", setting='bert')\n",
        "fine_tuned_model = 'sick_nl/model_data/models_agg/model_SICK_NL_robbert-v2-dutch-base_epoch1.pt'\n",
        "only_evaluate(nl_sick, fine_tuned_model, \"pdelobelle/robbert-v2-dutch-base\", setting='roberta')\n",
        "fine_tuned_model = 'sick_nl/model_data/models_agg/model_SICK_NL_robbert-v2-dutch-base_epoch1.pt'\n",
        "only_evaluate(nl_sick, fine_tuned_model, \"bert-base-multilingual-cased\", setting='bert')\n"
      ],
      "execution_count": 34,
      "outputs": [
        {
          "output_type": "stream",
          "text": [
            "Loading BERT model...\n"
          ],
          "name": "stdout"
        },
        {
          "output_type": "stream",
          "text": [
            "loading file https://huggingface.co/wietsedv/bert-base-dutch-cased/resolve/main/vocab.txt from cache at /root/.cache/huggingface/transformers/67c36a7a6f549d5b7c7f0c0eb4b0379f55015a54c5ab1a88909e12f900553b8b.2bab3c86db6bbfc2b6fe96a4a416e86c3d3a408fe0fb2eb53d5deb7d671280b9\n",
            "loading file https://huggingface.co/wietsedv/bert-base-dutch-cased/resolve/main/added_tokens.json from cache at None\n",
            "loading file https://huggingface.co/wietsedv/bert-base-dutch-cased/resolve/main/special_tokens_map.json from cache at None\n",
            "loading file https://huggingface.co/wietsedv/bert-base-dutch-cased/resolve/main/tokenizer_config.json from cache at /root/.cache/huggingface/transformers/c6a1665d5ce2318e4defa6b1d6cc5a5ce12ad9f9861a3c6d28e76cfdc9727c75.c9201be1323c49787de3aab70bd869fbc376d46a1c44c7a0075d8e97358ab103\n",
            "loading file https://huggingface.co/wietsedv/bert-base-dutch-cased/resolve/main/tokenizer.json from cache at None\n",
            "PyTorch: setting up devices\n",
            "The default value for the training argument `--report_to` will change in v5 (from all installed integrations to none). In v5, you will need to use `--report_to all` to get the same behavior as now. You should start updating your code and make this info disappear :-).\n",
            "***** Running Evaluation *****\n",
            "  Num examples = 249\n",
            "  Batch size = 64\n"
          ],
          "name": "stderr"
        },
        {
          "output_type": "stream",
          "text": [
            "Preparing datasets...\n",
            "Loading finetuning model...\n"
          ],
          "name": "stdout"
        },
        {
          "output_type": "display_data",
          "data": {
            "text/html": [
              "\n",
              "    <div>\n",
              "      \n",
              "      <progress value='4' max='4' style='width:300px; height:20px; vertical-align: middle;'></progress>\n",
              "      [4/4 00:01]\n",
              "    </div>\n",
              "    "
            ],
            "text/plain": [
              "<IPython.core.display.HTML object>"
            ]
          },
          "metadata": {
            "tags": []
          }
        },
        {
          "output_type": "stream",
          "text": [
            "/usr/local/lib/python3.7/dist-packages/sklearn/metrics/_classification.py:1272: UndefinedMetricWarning: Recall and F-score are ill-defined and being set to 0.0 in labels with no true samples. Use `zero_division` parameter to control this behavior.\n",
            "  _warn_prf(average, modifier, msg_start, len(result))\n",
            "Trainer is attempting to log a value of \"[1 1 1 1 1 1 1 1 1 1 1 1 1 1 1 1 1 1 1 1 1 1 1 1 1 1 1 1 1 1 1 1 1 1 1 1 1\n",
            " 1 1 1 1 1 1 1 1 1 1 1 1 1 1 1 1 1 1 1 1 1 1 1 1 1 1 1 1 1 1 1 1 1 1 1 1 1\n",
            " 1 1 1 1 1 1 1 1 1 1 1 1 1 1 1 1 1 1 1 1 1 1 1 1 1 1 1 1 1 1 1 1 1 1 1 1 1\n",
            " 1 1 1 1 1 1 1 1 1 1 1 1 1 1 1 1 1 1 1 1 1 1 1 1 1 1 1 1 1 1 1 1 1 1 1 1 1\n",
            " 1 1 1 1 1 1 1 1 1 1 1 1 1 1 1 1 1 1 1 1 1 1 1 1 1 1 1 1 1 1 1 1 1 1 1 1 1\n",
            " 1 1 1 1 1 1 1 1 1 1 1 1 1 1 1 1 1 1 1 1 1 1 1 1 1 1 1 1 1 1 1 1 1 1 1 1 1\n",
            " 1 1 1 1 1 1 1 1 1 1 1 1 1 1 1 1 1 1 1 1 1 1 1 1 1 1 1]\" of type <class 'numpy.ndarray'> for key \"eval/trues\" as a scalar. This invocation of Tensorboard's writer.add_scalar() is incorrect so we dropped this attribute.\n",
            "Trainer is attempting to log a value of \"[1 2 2 2 2 2 2 2 2 1 2 2 2 2 2 2 2 2 2 2 2 2 2 2 2 2 1 1 1 2 2 2 2 2 2 2 2\n",
            " 2 2 2 2 2 2 1 2 2 2 2 2 2 2 2 1 1 1 1 2 1 2 2 1 2 2 2 2 2 2 2 2 1 2 1 2 1\n",
            " 2 1 2 2 2 2 2 2 2 2 1 2 2 1 2 2 2 1 2 2 2 2 2 2 2 2 2 2 2 2 2 2 2 1 2 2 2\n",
            " 1 1 1 2 2 2 2 2 2 2 2 2 2 2 2 2 2 2 2 2 2 2 2 2 2 2 2 2 2 2 2 2 1 2 2 2 2\n",
            " 2 2 2 2 2 2 1 2 2 2 2 2 2 2 2 2 2 2 2 2 2 2 2 2 2 2 2 1 2 2 2 2 2 2 2 2 2\n",
            " 2 2 2 2 2 2 2 2 1 2 2 2 2 2 2 1 2 2 2 2 2 2 2 2 2 2 1 2 2 2 2 2 2 1 2 2 2\n",
            " 1 1 2 2 2 2 2 2 2 2 2 2 2 2 2 2 2 2 2 2 2 2 2 2 2 2 2]\" of type <class 'numpy.ndarray'> for key \"eval/predictions\" as a scalar. This invocation of Tensorboard's writer.add_scalar() is incorrect so we dropped this attribute.\n"
          ],
          "name": "stderr"
        },
        {
          "output_type": "stream",
          "text": [
            "Accuracy is {'eval_loss': 1.2267309427261353, 'eval_accuracy': 0.1285140562248996, 'eval_f1': 0.11387900355871884, 'eval_precision': 0.5, 'eval_recall': 0.0642570281124498, 'eval_trues': array([1, 1, 1, 1, 1, 1, 1, 1, 1, 1, 1, 1, 1, 1, 1, 1, 1, 1, 1, 1, 1, 1,\n",
            "       1, 1, 1, 1, 1, 1, 1, 1, 1, 1, 1, 1, 1, 1, 1, 1, 1, 1, 1, 1, 1, 1,\n",
            "       1, 1, 1, 1, 1, 1, 1, 1, 1, 1, 1, 1, 1, 1, 1, 1, 1, 1, 1, 1, 1, 1,\n",
            "       1, 1, 1, 1, 1, 1, 1, 1, 1, 1, 1, 1, 1, 1, 1, 1, 1, 1, 1, 1, 1, 1,\n",
            "       1, 1, 1, 1, 1, 1, 1, 1, 1, 1, 1, 1, 1, 1, 1, 1, 1, 1, 1, 1, 1, 1,\n",
            "       1, 1, 1, 1, 1, 1, 1, 1, 1, 1, 1, 1, 1, 1, 1, 1, 1, 1, 1, 1, 1, 1,\n",
            "       1, 1, 1, 1, 1, 1, 1, 1, 1, 1, 1, 1, 1, 1, 1, 1, 1, 1, 1, 1, 1, 1,\n",
            "       1, 1, 1, 1, 1, 1, 1, 1, 1, 1, 1, 1, 1, 1, 1, 1, 1, 1, 1, 1, 1, 1,\n",
            "       1, 1, 1, 1, 1, 1, 1, 1, 1, 1, 1, 1, 1, 1, 1, 1, 1, 1, 1, 1, 1, 1,\n",
            "       1, 1, 1, 1, 1, 1, 1, 1, 1, 1, 1, 1, 1, 1, 1, 1, 1, 1, 1, 1, 1, 1,\n",
            "       1, 1, 1, 1, 1, 1, 1, 1, 1, 1, 1, 1, 1, 1, 1, 1, 1, 1, 1, 1, 1, 1,\n",
            "       1, 1, 1, 1, 1, 1, 1]), 'eval_predictions': array([1, 2, 2, 2, 2, 2, 2, 2, 2, 1, 2, 2, 2, 2, 2, 2, 2, 2, 2, 2, 2, 2,\n",
            "       2, 2, 2, 2, 1, 1, 1, 2, 2, 2, 2, 2, 2, 2, 2, 2, 2, 2, 2, 2, 2, 1,\n",
            "       2, 2, 2, 2, 2, 2, 2, 2, 1, 1, 1, 1, 2, 1, 2, 2, 1, 2, 2, 2, 2, 2,\n",
            "       2, 2, 2, 1, 2, 1, 2, 1, 2, 1, 2, 2, 2, 2, 2, 2, 2, 2, 1, 2, 2, 1,\n",
            "       2, 2, 2, 1, 2, 2, 2, 2, 2, 2, 2, 2, 2, 2, 2, 2, 2, 2, 2, 1, 2, 2,\n",
            "       2, 1, 1, 1, 2, 2, 2, 2, 2, 2, 2, 2, 2, 2, 2, 2, 2, 2, 2, 2, 2, 2,\n",
            "       2, 2, 2, 2, 2, 2, 2, 2, 2, 2, 2, 1, 2, 2, 2, 2, 2, 2, 2, 2, 2, 2,\n",
            "       1, 2, 2, 2, 2, 2, 2, 2, 2, 2, 2, 2, 2, 2, 2, 2, 2, 2, 2, 2, 2, 1,\n",
            "       2, 2, 2, 2, 2, 2, 2, 2, 2, 2, 2, 2, 2, 2, 2, 2, 2, 1, 2, 2, 2, 2,\n",
            "       2, 2, 1, 2, 2, 2, 2, 2, 2, 2, 2, 2, 2, 1, 2, 2, 2, 2, 2, 2, 1, 2,\n",
            "       2, 2, 1, 1, 2, 2, 2, 2, 2, 2, 2, 2, 2, 2, 2, 2, 2, 2, 2, 2, 2, 2,\n",
            "       2, 2, 2, 2, 2, 2, 2]), 'eval_runtime': 1.9009, 'eval_samples_per_second': 130.991, 'eval_steps_per_second': 2.104}!\n",
            "Loading BERT model...\n"
          ],
          "name": "stdout"
        },
        {
          "output_type": "stream",
          "text": [
            "loading file https://huggingface.co/pdelobelle/robbert-v2-dutch-base/resolve/main/vocab.json from cache at /root/.cache/huggingface/transformers/e338cb20bd645675d888a6469d1b7bfe472e69a5c93052006528c9ae4f856e44.43004df1e5c2251acdd15f077a74063dea7f0082e895ca8978bc6876d97c918b\n",
            "loading file https://huggingface.co/pdelobelle/robbert-v2-dutch-base/resolve/main/merges.txt from cache at /root/.cache/huggingface/transformers/0cc0d13f8f47c5f67868f6ea3638b66b788e833af7323164ba7d3e1c92f49f42.15e46d82fe3fef52038bdadabeb8cca392378e0966fa780352e52eaa8301f2ba\n",
            "loading file https://huggingface.co/pdelobelle/robbert-v2-dutch-base/resolve/main/added_tokens.json from cache at None\n",
            "loading file https://huggingface.co/pdelobelle/robbert-v2-dutch-base/resolve/main/special_tokens_map.json from cache at /root/.cache/huggingface/transformers/fc901152bccc6123aa5ca59de0c36b6e68e0796b4d7875a0e4e9744aab712cd2.a11ebb04664c067c8fe5ef8f8068b0f721263414a26058692f7b2e4ba2a1b342\n",
            "loading file https://huggingface.co/pdelobelle/robbert-v2-dutch-base/resolve/main/tokenizer_config.json from cache at /root/.cache/huggingface/transformers/0e574c682eea0c331bacb169b024661d2c630bcc95fb929dffaecbc6e3d5e83e.17505f95061d85e0b37c387a9f9fec105a83d254490a05bc83796406022ee28f\n",
            "loading file https://huggingface.co/pdelobelle/robbert-v2-dutch-base/resolve/main/tokenizer.json from cache at /root/.cache/huggingface/transformers/b6e14a9efbaeee4d226418b9813e16d677b2206c4ad6969330b1da533a498109.c5bc98517fe2880f158d4f5c671d9a2a25f0d14fbe5ccaeeee68c4d7c7b4dd75\n",
            "PyTorch: setting up devices\n",
            "The default value for the training argument `--report_to` will change in v5 (from all installed integrations to none). In v5, you will need to use `--report_to all` to get the same behavior as now. You should start updating your code and make this info disappear :-).\n",
            "***** Running Evaluation *****\n",
            "  Num examples = 249\n",
            "  Batch size = 64\n"
          ],
          "name": "stderr"
        },
        {
          "output_type": "stream",
          "text": [
            "Preparing datasets...\n",
            "Loading finetuning model...\n"
          ],
          "name": "stdout"
        },
        {
          "output_type": "display_data",
          "data": {
            "text/html": [
              "\n",
              "    <div>\n",
              "      \n",
              "      <progress value='4' max='4' style='width:300px; height:20px; vertical-align: middle;'></progress>\n",
              "      [4/4 00:01]\n",
              "    </div>\n",
              "    "
            ],
            "text/plain": [
              "<IPython.core.display.HTML object>"
            ]
          },
          "metadata": {
            "tags": []
          }
        },
        {
          "output_type": "stream",
          "text": [
            "Trainer is attempting to log a value of \"[1 1 1 1 1 1 1 1 1 1 1 1 1 1 1 1 1 1 1 1 1 1 1 1 1 1 1 1 1 1 1 1 1 1 1 1 1\n",
            " 1 1 1 1 1 1 1 1 1 1 1 1 1 1 1 1 1 1 1 1 1 1 1 1 1 1 1 1 1 1 1 1 1 1 1 1 1\n",
            " 1 1 1 1 1 1 1 1 1 1 1 1 1 1 1 1 1 1 1 1 1 1 1 1 1 1 1 1 1 1 1 1 1 1 1 1 1\n",
            " 1 1 1 1 1 1 1 1 1 1 1 1 1 1 1 1 1 1 1 1 1 1 1 1 1 1 1 1 1 1 1 1 1 1 1 1 1\n",
            " 1 1 1 1 1 1 1 1 1 1 1 1 1 1 1 1 1 1 1 1 1 1 1 1 1 1 1 1 1 1 1 1 1 1 1 1 1\n",
            " 1 1 1 1 1 1 1 1 1 1 1 1 1 1 1 1 1 1 1 1 1 1 1 1 1 1 1 1 1 1 1 1 1 1 1 1 1\n",
            " 1 1 1 1 1 1 1 1 1 1 1 1 1 1 1 1 1 1 1 1 1 1 1 1 1 1 1]\" of type <class 'numpy.ndarray'> for key \"eval/trues\" as a scalar. This invocation of Tensorboard's writer.add_scalar() is incorrect so we dropped this attribute.\n",
            "Trainer is attempting to log a value of \"[2 2 2 2 2 2 2 2 2 2 1 2 2 2 2 2 2 2 2 2 2 2 2 2 2 2 1 2 1 2 2 2 2 2 2 2 2\n",
            " 2 2 2 2 2 2 2 2 2 2 2 2 2 2 2 2 2 2 2 2 2 2 2 2 2 2 2 2 2 2 2 2 2 1 1 2 2\n",
            " 2 2 2 2 2 2 2 2 2 2 2 2 2 2 2 2 2 2 2 2 2 2 2 2 2 2 2 2 2 2 2 2 2 2 2 2 2\n",
            " 2 2 2 2 2 2 2 2 2 2 2 2 2 2 2 2 2 2 2 2 2 2 2 2 2 2 2 2 2 2 2 2 2 2 2 2 2\n",
            " 2 2 2 2 2 2 2 2 2 2 2 2 2 2 2 2 2 2 2 2 2 2 2 2 2 2 2 2 2 2 2 2 2 2 2 2 2\n",
            " 2 2 2 2 2 2 2 2 2 2 2 2 2 2 2 2 2 2 2 2 2 2 2 2 2 2 2 2 2 2 2 2 2 2 2 2 2\n",
            " 2 2 2 2 2 2 2 2 2 2 2 2 2 2 2 2 2 2 2 2 2 2 2 2 2 2 2]\" of type <class 'numpy.ndarray'> for key \"eval/predictions\" as a scalar. This invocation of Tensorboard's writer.add_scalar() is incorrect so we dropped this attribute.\n"
          ],
          "name": "stderr"
        },
        {
          "output_type": "stream",
          "text": [
            "Accuracy is {'eval_loss': 1.3978139162063599, 'eval_accuracy': 0.020080321285140562, 'eval_f1': 0.01968503937007874, 'eval_precision': 0.5, 'eval_recall': 0.010040160642570281, 'eval_trues': array([1, 1, 1, 1, 1, 1, 1, 1, 1, 1, 1, 1, 1, 1, 1, 1, 1, 1, 1, 1, 1, 1,\n",
            "       1, 1, 1, 1, 1, 1, 1, 1, 1, 1, 1, 1, 1, 1, 1, 1, 1, 1, 1, 1, 1, 1,\n",
            "       1, 1, 1, 1, 1, 1, 1, 1, 1, 1, 1, 1, 1, 1, 1, 1, 1, 1, 1, 1, 1, 1,\n",
            "       1, 1, 1, 1, 1, 1, 1, 1, 1, 1, 1, 1, 1, 1, 1, 1, 1, 1, 1, 1, 1, 1,\n",
            "       1, 1, 1, 1, 1, 1, 1, 1, 1, 1, 1, 1, 1, 1, 1, 1, 1, 1, 1, 1, 1, 1,\n",
            "       1, 1, 1, 1, 1, 1, 1, 1, 1, 1, 1, 1, 1, 1, 1, 1, 1, 1, 1, 1, 1, 1,\n",
            "       1, 1, 1, 1, 1, 1, 1, 1, 1, 1, 1, 1, 1, 1, 1, 1, 1, 1, 1, 1, 1, 1,\n",
            "       1, 1, 1, 1, 1, 1, 1, 1, 1, 1, 1, 1, 1, 1, 1, 1, 1, 1, 1, 1, 1, 1,\n",
            "       1, 1, 1, 1, 1, 1, 1, 1, 1, 1, 1, 1, 1, 1, 1, 1, 1, 1, 1, 1, 1, 1,\n",
            "       1, 1, 1, 1, 1, 1, 1, 1, 1, 1, 1, 1, 1, 1, 1, 1, 1, 1, 1, 1, 1, 1,\n",
            "       1, 1, 1, 1, 1, 1, 1, 1, 1, 1, 1, 1, 1, 1, 1, 1, 1, 1, 1, 1, 1, 1,\n",
            "       1, 1, 1, 1, 1, 1, 1]), 'eval_predictions': array([2, 2, 2, 2, 2, 2, 2, 2, 2, 2, 1, 2, 2, 2, 2, 2, 2, 2, 2, 2, 2, 2,\n",
            "       2, 2, 2, 2, 1, 2, 1, 2, 2, 2, 2, 2, 2, 2, 2, 2, 2, 2, 2, 2, 2, 2,\n",
            "       2, 2, 2, 2, 2, 2, 2, 2, 2, 2, 2, 2, 2, 2, 2, 2, 2, 2, 2, 2, 2, 2,\n",
            "       2, 2, 2, 2, 1, 1, 2, 2, 2, 2, 2, 2, 2, 2, 2, 2, 2, 2, 2, 2, 2, 2,\n",
            "       2, 2, 2, 2, 2, 2, 2, 2, 2, 2, 2, 2, 2, 2, 2, 2, 2, 2, 2, 2, 2, 2,\n",
            "       2, 2, 2, 2, 2, 2, 2, 2, 2, 2, 2, 2, 2, 2, 2, 2, 2, 2, 2, 2, 2, 2,\n",
            "       2, 2, 2, 2, 2, 2, 2, 2, 2, 2, 2, 2, 2, 2, 2, 2, 2, 2, 2, 2, 2, 2,\n",
            "       2, 2, 2, 2, 2, 2, 2, 2, 2, 2, 2, 2, 2, 2, 2, 2, 2, 2, 2, 2, 2, 2,\n",
            "       2, 2, 2, 2, 2, 2, 2, 2, 2, 2, 2, 2, 2, 2, 2, 2, 2, 2, 2, 2, 2, 2,\n",
            "       2, 2, 2, 2, 2, 2, 2, 2, 2, 2, 2, 2, 2, 2, 2, 2, 2, 2, 2, 2, 2, 2,\n",
            "       2, 2, 2, 2, 2, 2, 2, 2, 2, 2, 2, 2, 2, 2, 2, 2, 2, 2, 2, 2, 2, 2,\n",
            "       2, 2, 2, 2, 2, 2, 2]), 'eval_runtime': 1.7632, 'eval_samples_per_second': 141.217, 'eval_steps_per_second': 2.269}!\n"
          ],
          "name": "stdout"
        }
      ]
    },
    {
      "cell_type": "code",
      "metadata": {
        "id": "n3_EzvrUdF2Y"
      },
      "source": [
        ""
      ],
      "execution_count": null,
      "outputs": []
    }
  ]
}